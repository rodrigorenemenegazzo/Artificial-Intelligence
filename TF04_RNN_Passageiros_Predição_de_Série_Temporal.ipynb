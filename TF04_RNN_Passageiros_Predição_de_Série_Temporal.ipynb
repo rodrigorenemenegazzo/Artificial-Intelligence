{
  "nbformat": 4,
  "nbformat_minor": 0,
  "metadata": {
    "colab": {
      "name": "TF04--RNN - Passageiros : Predição de Série Temporal",
      "provenance": [],
      "collapsed_sections": [],
      "authorship_tag": "ABX9TyMtinZJVGRkeHTVNJ57DWy5",
      "include_colab_link": true
    },
    "kernelspec": {
      "name": "python3",
      "display_name": "Python 3"
    },
    "language_info": {
      "name": "python"
    }
  },
  "cells": [
    {
      "cell_type": "markdown",
      "metadata": {
        "id": "view-in-github",
        "colab_type": "text"
      },
      "source": [
        "<a href=\"https://colab.research.google.com/github/rodrigorenemenegazzo/Artificial-Intelligence/blob/main/TF04_RNN_Passageiros_Predi%C3%A7%C3%A3o_de_S%C3%A9rie_Temporal.ipynb\" target=\"_parent\"><img src=\"https://colab.research.google.com/assets/colab-badge.svg\" alt=\"Open In Colab\"/></a>"
      ]
    },
    {
      "cell_type": "markdown",
      "source": [
        "Rodrigo Rene Menegazzo\n",
        "\n",
        "Prática: Predição Passageiros de Companhia Aérea\n",
        "  * Predizer ocupação de passageiros\n",
        "\n"
      ],
      "metadata": {
        "id": "ny7ELO86Hj8w"
      }
    },
    {
      "cell_type": "markdown",
      "source": [
        "Importações"
      ],
      "metadata": {
        "id": "zbLe6BsjH6n3"
      }
    },
    {
      "cell_type": "code",
      "source": [
        "import math\n",
        "import numpy as np\n",
        "import pandas as pd\n",
        "import matplotlib.pyplot as plt\n",
        "import tensorflow as tf\n",
        "from tensorflow.keras.layers import Input, SimpleRNN, Dense\n",
        "from tensorflow.keras.models import Model\n",
        "from tensorflow.keras.optimizers import SGD, Adam\n",
        "from sklearn.preprocessing import StandardScaler\n",
        "from sklearn.preprocessing import MinMaxScaler\n",
        "from sklearn.metrics import mean_squared_error\n",
        "tf.__version__"
      ],
      "metadata": {
        "id": "UWAVSIMvH5tL",
        "colab": {
          "base_uri": "https://localhost:8080/",
          "height": 35
        },
        "outputId": "24bc4b7d-3d7b-4662-dd30-de476d4b014b"
      },
      "execution_count": 1,
      "outputs": [
        {
          "output_type": "execute_result",
          "data": {
            "text/plain": [
              "'2.8.2'"
            ],
            "application/vnd.google.colaboratory.intrinsic+json": {
              "type": "string"
            }
          },
          "metadata": {},
          "execution_count": 1
        }
      ]
    },
    {
      "cell_type": "markdown",
      "source": [
        "Carga da base"
      ],
      "metadata": {
        "id": "VT_TfPUxIL5y"
      }
    },
    {
      "cell_type": "code",
      "source": [
        "!wget http://www.razer.net.br/datasets/airline-passengers.csv\n",
        "df = pd.read_csv(\"airline-passengers.csv\", usecols=[1])\n",
        "df.head()\n",
        "plt.plot(df)\n",
        "plt.show()"
      ],
      "metadata": {
        "id": "fRc3NkYwITDS",
        "colab": {
          "base_uri": "https://localhost:8080/",
          "height": 456
        },
        "outputId": "40e9a7a9-b715-4043-ab36-53b5a03de4b3"
      },
      "execution_count": 2,
      "outputs": [
        {
          "output_type": "stream",
          "name": "stdout",
          "text": [
            "--2022-06-14 14:45:45--  http://www.razer.net.br/datasets/airline-passengers.csv\n",
            "Resolving www.razer.net.br (www.razer.net.br)... 178.128.150.229\n",
            "Connecting to www.razer.net.br (www.razer.net.br)|178.128.150.229|:80... connected.\n",
            "HTTP request sent, awaiting response... 200 OK\n",
            "Length: 2180 (2.1K) [text/csv]\n",
            "Saving to: ‘airline-passengers.csv’\n",
            "\n",
            "airline-passengers. 100%[===================>]   2.13K  --.-KB/s    in 0s      \n",
            "\n",
            "2022-06-14 14:45:45 (249 MB/s) - ‘airline-passengers.csv’ saved [2180/2180]\n",
            "\n"
          ]
        },
        {
          "output_type": "display_data",
          "data": {
            "text/plain": [
              "<Figure size 432x288 with 1 Axes>"
            ],
            "image/png": "[encoded data removed]"
          },
          "metadata": {
            "needs_background": "light"
          }
        }
      ]
    },
    {
      "cell_type": "markdown",
      "source": [
        "Pré-processamento"
      ],
      "metadata": {
        "id": "DQ1FoC6EKtFK"
      }
    },
    {
      "cell_type": "code",
      "source": [
        "series = df.values\n",
        "series = series.astype('float32')\n",
        "scaler = MinMaxScaler(feature_range=(0, 1))\n",
        "series = scaler.fit_transform(series)\n",
        "# tamanho da base de treino – 67% do total\n",
        "train_size = int(len(series) * 0.67)"
      ],
      "metadata": {
        "id": "isfZ8oNxPaMy"
      },
      "execution_count": 3,
      "outputs": []
    },
    {
      "cell_type": "markdown",
      "source": [
        "Conversão da base em dataset"
      ],
      "metadata": {
        "id": "pYnJZT-iIT9Q"
      }
    },
    {
      "cell_type": "code",
      "source": [
        "T = 10 #tamanho da janela usada para previsão(10 leituras p/ predizer a próxima)\n",
        "D = 1 #quantidade de informação em cada leitura simples, 1 no caso do preço de uma ação, 2 no caso de GPS...\n",
        "X = []\n",
        "Y = []\n",
        "for t in range(len(series)-T):\n",
        "  x = series[t:t+T]\n",
        "  X.append(x)\n",
        "  y = series[t+T]\n",
        "  Y.append(y)\n",
        "\n",
        "X = np.array(X).reshape(-1, T, 1) # Fica N x T x D\n",
        "Y = np.array(Y)\n",
        "N = len(X) #número de janelas disponíveis na série temporal, de 10 em 10...\n",
        "print(\"X.shape: \", X.shape, \" Y.shape: \", Y.shape)"
      ],
      "metadata": {
        "id": "nbSGO8_zIXP4",
        "colab": {
          "base_uri": "https://localhost:8080/"
        },
        "outputId": "70883700-82db-4d71-86e4-5714af3dedab"
      },
      "execution_count": 4,
      "outputs": [
        {
          "output_type": "stream",
          "name": "stdout",
          "text": [
            "X.shape:  (134, 10, 1)  Y.shape:  (134, 1)\n"
          ]
        }
      ]
    },
    {
      "cell_type": "markdown",
      "source": [
        "Criação do modelo"
      ],
      "metadata": {
        "id": "Q0msGgr5IZ0g"
      }
    },
    {
      "cell_type": "code",
      "source": [
        "i = Input(shape=(T, 1))\n",
        "#x = SimpleRNN(5, activation=None)(i)\n",
        "x = SimpleRNN(5, activation=\"relu\")(i)\n",
        "#x = SimpleRNN(5)(i) # tanh por default\n",
        "x = Dense(1)(x)\n",
        "model = Model(i, x)"
      ],
      "metadata": {
        "id": "Zcq04srJId3_"
      },
      "execution_count": 5,
      "outputs": []
    },
    {
      "cell_type": "markdown",
      "source": [
        "Compilação e ajuste do modelo"
      ],
      "metadata": {
        "id": "OlDf6IB7Iel4"
      }
    },
    {
      "cell_type": "code",
      "source": [
        "model.compile(\n",
        "loss=\"mse\",\n",
        "optimizer=Adam(lr=0.1)\n",
        ")\n",
        "r = model.fit(\n",
        "X[:train_size], Y[:train_size],\n",
        "epochs=80,\n",
        "validation_data=(X[-train_size:], Y[-train_size:])\n",
        ")"
      ],
      "metadata": {
        "id": "4DrXONELIkC9",
        "colab": {
          "base_uri": "https://localhost:8080/"
        },
        "outputId": "47194eb7-c423-4fa2-b145-87723186d97d"
      },
      "execution_count": 6,
      "outputs": [
        {
          "output_type": "stream",
          "name": "stderr",
          "text": [
            "/usr/local/lib/python3.7/dist-packages/keras/optimizer_v2/adam.py:105: UserWarning: The `lr` argument is deprecated, use `learning_rate` instead.\n",
            "  super(Adam, self).__init__(name, **kwargs)\n"
          ]
        },
        {
          "output_type": "stream",
          "name": "stdout",
          "text": [
            "Epoch 1/80\n",
            "3/3 [==============================] - 3s 283ms/step - loss: 0.3061 - val_loss: 0.2898\n",
            "Epoch 2/80\n",
            "3/3 [==============================] - 0s 53ms/step - loss: 0.0907 - val_loss: 0.0324\n",
            "Epoch 3/80\n",
            "3/3 [==============================] - 0s 89ms/step - loss: 0.0372 - val_loss: 0.0178\n",
            "Epoch 4/80\n",
            "3/3 [==============================] - 0s 43ms/step - loss: 0.0241 - val_loss: 0.0458\n",
            "Epoch 5/80\n",
            "3/3 [==============================] - 0s 38ms/step - loss: 0.0177 - val_loss: 0.0781\n",
            "Epoch 6/80\n",
            "3/3 [==============================] - 0s 48ms/step - loss: 0.0213 - val_loss: 0.0583\n",
            "Epoch 7/80\n",
            "3/3 [==============================] - 0s 40ms/step - loss: 0.0150 - val_loss: 0.0296\n",
            "Epoch 8/80\n",
            "3/3 [==============================] - 0s 59ms/step - loss: 0.0127 - val_loss: 0.0185\n",
            "Epoch 9/80\n",
            "3/3 [==============================] - 0s 39ms/step - loss: 0.0130 - val_loss: 0.0197\n",
            "Epoch 10/80\n",
            "3/3 [==============================] - 0s 30ms/step - loss: 0.0098 - val_loss: 0.0262\n",
            "Epoch 11/80\n",
            "3/3 [==============================] - 0s 52ms/step - loss: 0.0078 - val_loss: 0.0259\n",
            "Epoch 12/80\n",
            "3/3 [==============================] - 0s 31ms/step - loss: 0.0058 - val_loss: 0.0144\n",
            "Epoch 13/80\n",
            "3/3 [==============================] - 0s 30ms/step - loss: 0.0031 - val_loss: 0.0063\n",
            "Epoch 14/80\n",
            "3/3 [==============================] - 0s 43ms/step - loss: 0.0028 - val_loss: 0.0048\n",
            "Epoch 15/80\n",
            "3/3 [==============================] - 0s 30ms/step - loss: 0.0028 - val_loss: 0.0046\n",
            "Epoch 16/80\n",
            "3/3 [==============================] - 0s 34ms/step - loss: 0.0025 - val_loss: 0.0045\n",
            "Epoch 17/80\n",
            "3/3 [==============================] - 0s 32ms/step - loss: 0.0024 - val_loss: 0.0046\n",
            "Epoch 18/80\n",
            "3/3 [==============================] - 0s 48ms/step - loss: 0.0023 - val_loss: 0.0057\n",
            "Epoch 19/80\n",
            "3/3 [==============================] - 0s 40ms/step - loss: 0.0023 - val_loss: 0.0052\n",
            "Epoch 20/80\n",
            "3/3 [==============================] - 0s 33ms/step - loss: 0.0023 - val_loss: 0.0053\n",
            "Epoch 21/80\n",
            "3/3 [==============================] - 0s 49ms/step - loss: 0.0023 - val_loss: 0.0052\n",
            "Epoch 22/80\n",
            "3/3 [==============================] - 0s 35ms/step - loss: 0.0023 - val_loss: 0.0050\n",
            "Epoch 23/80\n",
            "3/3 [==============================] - 0s 33ms/step - loss: 0.0022 - val_loss: 0.0052\n",
            "Epoch 24/80\n",
            "3/3 [==============================] - 0s 38ms/step - loss: 0.0022 - val_loss: 0.0048\n",
            "Epoch 25/80\n",
            "3/3 [==============================] - 0s 36ms/step - loss: 0.0022 - val_loss: 0.0048\n",
            "Epoch 26/80\n",
            "3/3 [==============================] - 0s 32ms/step - loss: 0.0025 - val_loss: 0.0051\n",
            "Epoch 27/80\n",
            "3/3 [==============================] - 0s 62ms/step - loss: 0.0025 - val_loss: 0.0047\n",
            "Epoch 28/80\n",
            "3/3 [==============================] - 0s 48ms/step - loss: 0.0022 - val_loss: 0.0051\n",
            "Epoch 29/80\n",
            "3/3 [==============================] - 0s 33ms/step - loss: 0.0025 - val_loss: 0.0055\n",
            "Epoch 30/80\n",
            "3/3 [==============================] - 0s 32ms/step - loss: 0.0023 - val_loss: 0.0047\n",
            "Epoch 31/80\n",
            "3/3 [==============================] - 0s 31ms/step - loss: 0.0024 - val_loss: 0.0050\n",
            "Epoch 32/80\n",
            "3/3 [==============================] - 0s 29ms/step - loss: 0.0024 - val_loss: 0.0055\n",
            "Epoch 33/80\n",
            "3/3 [==============================] - 0s 35ms/step - loss: 0.0023 - val_loss: 0.0047\n",
            "Epoch 34/80\n",
            "3/3 [==============================] - 0s 35ms/step - loss: 0.0023 - val_loss: 0.0049\n",
            "Epoch 35/80\n",
            "3/3 [==============================] - 0s 51ms/step - loss: 0.0024 - val_loss: 0.0052\n",
            "Epoch 36/80\n",
            "3/3 [==============================] - 0s 41ms/step - loss: 0.0022 - val_loss: 0.0047\n",
            "Epoch 37/80\n",
            "3/3 [==============================] - 0s 30ms/step - loss: 0.0023 - val_loss: 0.0049\n",
            "Epoch 38/80\n",
            "3/3 [==============================] - 0s 33ms/step - loss: 0.0022 - val_loss: 0.0052\n",
            "Epoch 39/80\n",
            "3/3 [==============================] - 0s 52ms/step - loss: 0.0022 - val_loss: 0.0047\n",
            "Epoch 40/80\n",
            "3/3 [==============================] - 0s 42ms/step - loss: 0.0022 - val_loss: 0.0047\n",
            "Epoch 41/80\n",
            "3/3 [==============================] - 0s 35ms/step - loss: 0.0022 - val_loss: 0.0048\n",
            "Epoch 42/80\n",
            "3/3 [==============================] - 0s 44ms/step - loss: 0.0021 - val_loss: 0.0047\n",
            "Epoch 43/80\n",
            "3/3 [==============================] - 0s 46ms/step - loss: 0.0022 - val_loss: 0.0048\n",
            "Epoch 44/80\n",
            "3/3 [==============================] - 0s 30ms/step - loss: 0.0021 - val_loss: 0.0046\n",
            "Epoch 45/80\n",
            "3/3 [==============================] - 0s 34ms/step - loss: 0.0021 - val_loss: 0.0047\n",
            "Epoch 46/80\n",
            "3/3 [==============================] - 0s 51ms/step - loss: 0.0020 - val_loss: 0.0051\n",
            "Epoch 47/80\n",
            "3/3 [==============================] - 0s 47ms/step - loss: 0.0021 - val_loss: 0.0051\n",
            "Epoch 48/80\n",
            "3/3 [==============================] - 0s 36ms/step - loss: 0.0022 - val_loss: 0.0049\n",
            "Epoch 49/80\n",
            "3/3 [==============================] - 0s 37ms/step - loss: 0.0020 - val_loss: 0.0055\n",
            "Epoch 50/80\n",
            "3/3 [==============================] - 0s 29ms/step - loss: 0.0021 - val_loss: 0.0051\n",
            "Epoch 51/80\n",
            "3/3 [==============================] - 0s 63ms/step - loss: 0.0022 - val_loss: 0.0047\n",
            "Epoch 52/80\n",
            "3/3 [==============================] - 0s 56ms/step - loss: 0.0021 - val_loss: 0.0051\n",
            "Epoch 53/80\n",
            "3/3 [==============================] - 0s 41ms/step - loss: 0.0021 - val_loss: 0.0050\n",
            "Epoch 54/80\n",
            "3/3 [==============================] - 0s 34ms/step - loss: 0.0021 - val_loss: 0.0047\n",
            "Epoch 55/80\n",
            "3/3 [==============================] - 0s 69ms/step - loss: 0.0022 - val_loss: 0.0054\n",
            "Epoch 56/80\n",
            "3/3 [==============================] - 0s 35ms/step - loss: 0.0020 - val_loss: 0.0046\n",
            "Epoch 57/80\n",
            "3/3 [==============================] - 0s 35ms/step - loss: 0.0021 - val_loss: 0.0047\n",
            "Epoch 58/80\n",
            "3/3 [==============================] - 0s 60ms/step - loss: 0.0021 - val_loss: 0.0052\n",
            "Epoch 59/80\n",
            "3/3 [==============================] - 0s 54ms/step - loss: 0.0021 - val_loss: 0.0046\n",
            "Epoch 60/80\n",
            "3/3 [==============================] - 0s 32ms/step - loss: 0.0022 - val_loss: 0.0051\n",
            "Epoch 61/80\n",
            "3/3 [==============================] - 0s 42ms/step - loss: 0.0021 - val_loss: 0.0047\n",
            "Epoch 62/80\n",
            "3/3 [==============================] - 0s 40ms/step - loss: 0.0021 - val_loss: 0.0049\n",
            "Epoch 63/80\n",
            "3/3 [==============================] - 0s 33ms/step - loss: 0.0021 - val_loss: 0.0050\n",
            "Epoch 64/80\n",
            "3/3 [==============================] - 0s 35ms/step - loss: 0.0020 - val_loss: 0.0047\n",
            "Epoch 65/80\n",
            "3/3 [==============================] - 0s 43ms/step - loss: 0.0021 - val_loss: 0.0049\n",
            "Epoch 66/80\n",
            "3/3 [==============================] - 0s 32ms/step - loss: 0.0023 - val_loss: 0.0053\n",
            "Epoch 67/80\n",
            "3/3 [==============================] - 0s 56ms/step - loss: 0.0024 - val_loss: 0.0047\n",
            "Epoch 68/80\n",
            "3/3 [==============================] - 0s 36ms/step - loss: 0.0021 - val_loss: 0.0057\n",
            "Epoch 69/80\n",
            "3/3 [==============================] - 0s 47ms/step - loss: 0.0021 - val_loss: 0.0047\n",
            "Epoch 70/80\n",
            "3/3 [==============================] - 0s 54ms/step - loss: 0.0021 - val_loss: 0.0046\n",
            "Epoch 71/80\n",
            "3/3 [==============================] - 0s 32ms/step - loss: 0.0022 - val_loss: 0.0051\n",
            "Epoch 72/80\n",
            "3/3 [==============================] - 0s 30ms/step - loss: 0.0022 - val_loss: 0.0046\n",
            "Epoch 73/80\n",
            "3/3 [==============================] - 0s 49ms/step - loss: 0.0021 - val_loss: 0.0054\n",
            "Epoch 74/80\n",
            "3/3 [==============================] - 0s 33ms/step - loss: 0.0023 - val_loss: 0.0047\n",
            "Epoch 75/80\n",
            "3/3 [==============================] - 0s 32ms/step - loss: 0.0021 - val_loss: 0.0048\n",
            "Epoch 76/80\n",
            "3/3 [==============================] - 0s 36ms/step - loss: 0.0021 - val_loss: 0.0056\n",
            "Epoch 77/80\n",
            "3/3 [==============================] - 0s 57ms/step - loss: 0.0021 - val_loss: 0.0050\n",
            "Epoch 78/80\n",
            "3/3 [==============================] - 0s 49ms/step - loss: 0.0022 - val_loss: 0.0048\n",
            "Epoch 79/80\n",
            "3/3 [==============================] - 0s 42ms/step - loss: 0.0020 - val_loss: 0.0056\n",
            "Epoch 80/80\n",
            "3/3 [==============================] - 0s 35ms/step - loss: 0.0021 - val_loss: 0.0046\n"
          ]
        }
      ]
    },
    {
      "cell_type": "markdown",
      "source": [
        "Plotar a função de perda"
      ],
      "metadata": {
        "id": "DiW38Pn8Iwmn"
      }
    },
    {
      "cell_type": "code",
      "source": [
        "plt.plot(r.history[\"loss\"], label=\"loss\")\n",
        "plt.plot(r.history[\"val_loss\"], label=\"val_loss\")\n",
        "plt.legend()"
      ],
      "metadata": {
        "id": "Ku-SJ7KUI088",
        "colab": {
          "base_uri": "https://localhost:8080/",
          "height": 282
        },
        "outputId": "40547a48-083d-4337-aa6e-4f9188b5f1aa"
      },
      "execution_count": 7,
      "outputs": [
        {
          "output_type": "execute_result",
          "data": {
            "text/plain": [
              "<matplotlib.legend.Legend at 0x7fdbd9215fd0>"
            ]
          },
          "metadata": {},
          "execution_count": 7
        },
        {
          "output_type": "display_data",
          "data": {
            "text/plain": [
              "<Figure size 432x288 with 1 Axes>"
            ],
            "image/png": "[encoded data removed]"
          },
          "metadata": {
            "needs_background": "light"
          }
        }
      ]
    },
    {
      "cell_type": "markdown",
      "source": [
        "Predições: 1-step"
      ],
      "metadata": {
        "id": "LBaa8eN3I1qE"
      }
    },
    {
      "cell_type": "code",
      "source": [
        "validation_target = Y[-train_size:]\n",
        "validation_predictions = []\n",
        "i = -train_size\n",
        "\n",
        "while len(validation_predictions) < len(validation_target):\n",
        "  p = model.predict( X[i].reshape(1, -1, 1))[0, 0]\n",
        "  i += 1\n",
        "\n",
        "  validation_predictions.append(p)\n",
        "\n",
        "plt.plot(validation_target, label=\"Observado\")\n",
        "plt.plot(validation_predictions, label=\"Predito\")\n",
        "plt.legend()"
      ],
      "metadata": {
        "id": "wVJOf70xI7O-",
        "colab": {
          "base_uri": "https://localhost:8080/",
          "height": 282
        },
        "outputId": "1dbc6828-bf81-4feb-e445-b6d783de88e6"
      },
      "execution_count": 8,
      "outputs": [
        {
          "output_type": "execute_result",
          "data": {
            "text/plain": [
              "<matplotlib.legend.Legend at 0x7fdbdd9c7250>"
            ]
          },
          "metadata": {},
          "execution_count": 8
        },
        {
          "output_type": "display_data",
          "data": {
            "text/plain": [
              "<Figure size 432x288 with 1 Axes>"
            ],
            "image/png": "[encoded data removed]"
          },
          "metadata": {
            "needs_background": "light"
          }
        }
      ]
    },
    {
      "cell_type": "markdown",
      "source": [
        "Multi-step"
      ],
      "metadata": {
        "id": "kKXEdl_kLQbR"
      }
    },
    {
      "cell_type": "code",
      "source": [
        "validation_target = Y[-train_size:]\n",
        "validation_predictions = []\n",
        "last_x = X[-train_size]\n",
        "\n",
        "while len(validation_predictions) < len(validation_target):\n",
        "  p = model.predict( last_x.reshape(1, -1, 1))[0, 0]\n",
        "  \n",
        "  validation_predictions.append(p)\n",
        "  \n",
        "  last_x = np.roll(last_x, -1)\n",
        "  last_x[-1] = p\n",
        "\n",
        "plt.plot(validation_target, label=\"Observado\")\n",
        "plt.plot(validation_predictions, label=\"Predito\")\n",
        "plt.legend()"
      ],
      "metadata": {
        "id": "so4PuKKRLR02",
        "colab": {
          "base_uri": "https://localhost:8080/",
          "height": 282
        },
        "outputId": "028b2243-4ba9-47e4-dd94-bffc11465067"
      },
      "execution_count": 50,
      "outputs": [
        {
          "output_type": "execute_result",
          "data": {
            "text/plain": [
              "<matplotlib.legend.Legend at 0x7fdbdd6ff990>"
            ]
          },
          "metadata": {},
          "execution_count": 50
        },
        {
          "output_type": "display_data",
          "data": {
            "text/plain": [
              "<Figure size 432x288 with 1 Axes>"
            ],
            "image/png": "[encoded data removed]"
          },
          "metadata": {
            "needs_background": "light"
          }
        }
      ]
    }
  ]
}