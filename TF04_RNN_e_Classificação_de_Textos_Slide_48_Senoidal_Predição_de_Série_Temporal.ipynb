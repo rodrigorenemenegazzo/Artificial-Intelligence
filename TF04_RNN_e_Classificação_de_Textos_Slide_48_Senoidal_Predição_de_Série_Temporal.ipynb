{
  "nbformat": 4,
  "nbformat_minor": 0,
  "metadata": {
    "colab": {
      "name": "TF04--RNN - Senoidal : Predição de Série Temporal",
      "provenance": [],
      "collapsed_sections": [],
      "authorship_tag": "ABX9TyPLCbzxDQj/pFKIOD5HOBWZ",
      "include_colab_link": true
    },
    "kernelspec": {
      "name": "python3",
      "display_name": "Python 3"
    },
    "language_info": {
      "name": "python"
    }
  },
  "cells": [
    {
      "cell_type": "markdown",
      "metadata": {
        "id": "view-in-github",
        "colab_type": "text"
      },
      "source": [
        "<a href=\"https://colab.research.google.com/github/rodrigorenemenegazzo/Artificial-Intelligence/blob/main/TF04_RNN_e_Classifica%C3%A7%C3%A3o_de_Textos_Slide_48_Senoidal_Predi%C3%A7%C3%A3o_de_S%C3%A9rie_Temporal.ipynb\" target=\"_parent\"><img src=\"https://colab.research.google.com/assets/colab-badge.svg\" alt=\"Open In Colab\"/></a>"
      ]
    },
    {
      "cell_type": "markdown",
      "source": [
        "Rodrigo Rene Menegazzo\n",
        "\n",
        "Prática: Predição de uma Senoidal\n",
        "\n",
        "Senoidal\n",
        "  * Fabricar uma série temporal\n",
        "  * Adicionar ruído\n",
        "  * Tentar predizer os próximos valores\n",
        "  * Usaremos uma SimpleRNN"
      ],
      "metadata": {
        "id": "ny7ELO86Hj8w"
      }
    },
    {
      "cell_type": "markdown",
      "source": [
        "Importações"
      ],
      "metadata": {
        "id": "zbLe6BsjH6n3"
      }
    },
    {
      "cell_type": "code",
      "source": [
        "import tensorflow as tf\n",
        "tf.__version__\n",
        "from tensorflow.keras.layers import Input, SimpleRNN, Dense\n",
        "from tensorflow.keras.models import Model\n",
        "from tensorflow.keras.optimizers import SGD, Adam\n",
        "import numpy as np\n",
        "import pandas as pd\n",
        "import matplotlib.pyplot as plt"
      ],
      "metadata": {
        "id": "UWAVSIMvH5tL"
      },
      "execution_count": 2,
      "outputs": []
    },
    {
      "cell_type": "markdown",
      "source": [
        "Criação dos dados"
      ],
      "metadata": {
        "id": "VT_TfPUxIL5y"
      }
    },
    {
      "cell_type": "code",
      "source": [
        "series = np.sin(0.1*np.arange(200)) + np.random.randn(200)*0.1\n",
        "plt.plot(series)\n",
        "plt.show()"
      ],
      "metadata": {
        "colab": {
          "base_uri": "https://localhost:8080/",
          "height": 265
        },
        "id": "fRc3NkYwITDS",
        "outputId": "4736b89d-fc03-42cf-dce3-1bd64289f888"
      },
      "execution_count": 21,
      "outputs": [
        {
          "output_type": "display_data",
          "data": {
            "text/plain": [
              "<Figure size 432x288 with 1 Axes>"
            ],
            "image/png": "[encoded data removed]"
          },
          "metadata": {
            "needs_background": "light"
          }
        }
      ]
    },
    {
      "cell_type": "markdown",
      "source": [
        "Criação do dataset (dimensões corretas – N x T x D)"
      ],
      "metadata": {
        "id": "pYnJZT-iIT9Q"
      }
    },
    {
      "cell_type": "code",
      "source": [
        "T = 10 # tamanho da janela\n",
        "D = 1 # quantidade de dados\n",
        "X = []\n",
        "Y = []\n",
        "for t in range(len(series)-T):\n",
        "    x = series[t:t+T]\n",
        "    X.append(x)\n",
        "    y = series[t+T]\n",
        "    Y.append(y)\n",
        "\n",
        "X = np.array(X).reshape(-1, T, 1) # Fica N x T x D\n",
        "Y = np.array(Y)\n",
        "N = len(X)\n",
        "\n",
        "print(\"X.shape: \", X.shape, \" Y.shape: \", Y.shape)"
      ],
      "metadata": {
        "colab": {
          "base_uri": "https://localhost:8080/"
        },
        "id": "nbSGO8_zIXP4",
        "outputId": "f76d439c-5a6f-4d1d-a5c8-20fa1c5361df"
      },
      "execution_count": 39,
      "outputs": [
        {
          "output_type": "stream",
          "name": "stdout",
          "text": [
            "X.shape:  (190, 10, 1)  Y.shape:  (190,)\n"
          ]
        }
      ]
    },
    {
      "cell_type": "markdown",
      "source": [
        "Criação do modelo"
      ],
      "metadata": {
        "id": "Q0msGgr5IZ0g"
      }
    },
    {
      "cell_type": "code",
      "source": [
        "i = Input(shape=(T, 1))\n",
        "x = SimpleRNN(5, activation=\"relu\")(i)\n",
        "x = Dense(1)(x)\n",
        "model = Model(i, x)"
      ],
      "metadata": {
        "id": "Zcq04srJId3_"
      },
      "execution_count": 40,
      "outputs": []
    },
    {
      "cell_type": "markdown",
      "source": [
        "Compilação do modelo"
      ],
      "metadata": {
        "id": "OlDf6IB7Iel4"
      }
    },
    {
      "cell_type": "code",
      "source": [
        "model.compile(\n",
        "loss=\"mse\",\n",
        "optimizer=Adam(lr=0.1)\n",
        ")"
      ],
      "metadata": {
        "colab": {
          "base_uri": "https://localhost:8080/"
        },
        "id": "4DrXONELIkC9",
        "outputId": "4ce712b4-cef0-41b6-b8a6-14f90e35c195"
      },
      "execution_count": 41,
      "outputs": [
        {
          "output_type": "stream",
          "name": "stderr",
          "text": [
            "/usr/local/lib/python3.7/dist-packages/keras/optimizer_v2/adam.py:105: UserWarning: The `lr` argument is deprecated, use `learning_rate` instead.\n",
            "  super(Adam, self).__init__(name, **kwargs)\n"
          ]
        }
      ]
    },
    {
      "cell_type": "markdown",
      "source": [
        "Ajuste do modelo\n",
        "\n",
        "Usa\n",
        "  * Metade da base para treino : X[:-N//2], Y[:-N//2]\n",
        "  * Metade para teste : X[-N//2:], Y[-N//2:]"
      ],
      "metadata": {
        "id": "VCsAvRB_Iko5"
      }
    },
    {
      "cell_type": "code",
      "source": [
        "r = model.fit(\n",
        "X[:-N//2], Y[:-N//2],    # X é todas as linhas até -95, que é de 10 em 10 para cada Y que é o próximo valor após cada 10 elementos.\n",
        "epochs=80,\n",
        "validation_data=(X[-N//2:], Y[-N//2:])    # mesma coisa do anterior mas a partir dos -95 até o final\n",
        ")"
      ],
      "metadata": {
        "colab": {
          "base_uri": "https://localhost:8080/"
        },
        "id": "28E_sG3aIql-",
        "outputId": "772fc443-75dc-4217-8069-61fb4501860a"
      },
      "execution_count": 47,
      "outputs": [
        {
          "output_type": "stream",
          "name": "stdout",
          "text": [
            "Epoch 1/80\n",
            "3/3 [==============================] - 1s 116ms/step - loss: 0.8762 - val_loss: 0.1387\n",
            "Epoch 2/80\n",
            "3/3 [==============================] - 0s 14ms/step - loss: 0.0803 - val_loss: 0.1195\n",
            "Epoch 3/80\n",
            "3/3 [==============================] - 0s 14ms/step - loss: 0.0796 - val_loss: 0.0692\n",
            "Epoch 4/80\n",
            "3/3 [==============================] - 0s 14ms/step - loss: 0.0482 - val_loss: 0.0831\n",
            "Epoch 5/80\n",
            "3/3 [==============================] - 0s 14ms/step - loss: 0.0686 - val_loss: 0.0676\n",
            "Epoch 6/80\n",
            "3/3 [==============================] - 0s 14ms/step - loss: 0.0589 - val_loss: 0.0659\n",
            "Epoch 7/80\n",
            "3/3 [==============================] - 0s 15ms/step - loss: 0.0573 - val_loss: 0.0521\n",
            "Epoch 8/80\n",
            "3/3 [==============================] - 0s 14ms/step - loss: 0.0483 - val_loss: 0.0508\n",
            "Epoch 9/80\n",
            "3/3 [==============================] - 0s 13ms/step - loss: 0.0439 - val_loss: 0.0414\n",
            "Epoch 10/80\n",
            "3/3 [==============================] - 0s 16ms/step - loss: 0.0375 - val_loss: 0.0370\n",
            "Epoch 11/80\n",
            "3/3 [==============================] - 0s 14ms/step - loss: 0.0329 - val_loss: 0.0311\n",
            "Epoch 12/80\n",
            "3/3 [==============================] - 0s 14ms/step - loss: 0.0307 - val_loss: 0.0294\n",
            "Epoch 13/80\n",
            "3/3 [==============================] - 0s 24ms/step - loss: 0.0297 - val_loss: 0.0262\n",
            "Epoch 14/80\n",
            "3/3 [==============================] - 0s 15ms/step - loss: 0.0298 - val_loss: 0.0259\n",
            "Epoch 15/80\n",
            "3/3 [==============================] - 0s 16ms/step - loss: 0.0290 - val_loss: 0.0264\n",
            "Epoch 16/80\n",
            "3/3 [==============================] - 0s 14ms/step - loss: 0.0284 - val_loss: 0.0241\n",
            "Epoch 17/80\n",
            "3/3 [==============================] - 0s 15ms/step - loss: 0.0267 - val_loss: 0.0231\n",
            "Epoch 18/80\n",
            "3/3 [==============================] - 0s 16ms/step - loss: 0.0260 - val_loss: 0.0228\n",
            "Epoch 19/80\n",
            "3/3 [==============================] - 0s 15ms/step - loss: 0.0272 - val_loss: 0.0246\n",
            "Epoch 20/80\n",
            "3/3 [==============================] - 0s 15ms/step - loss: 0.0247 - val_loss: 0.0228\n",
            "Epoch 21/80\n",
            "3/3 [==============================] - 0s 16ms/step - loss: 0.0246 - val_loss: 0.0240\n",
            "Epoch 22/80\n",
            "3/3 [==============================] - 0s 15ms/step - loss: 0.0246 - val_loss: 0.0233\n",
            "Epoch 23/80\n",
            "3/3 [==============================] - 0s 22ms/step - loss: 0.0231 - val_loss: 0.0239\n",
            "Epoch 24/80\n",
            "3/3 [==============================] - 0s 19ms/step - loss: 0.0228 - val_loss: 0.0234\n",
            "Epoch 25/80\n",
            "3/3 [==============================] - 0s 15ms/step - loss: 0.0221 - val_loss: 0.0232\n",
            "Epoch 26/80\n",
            "3/3 [==============================] - 0s 15ms/step - loss: 0.0232 - val_loss: 0.0236\n",
            "Epoch 27/80\n",
            "3/3 [==============================] - 0s 14ms/step - loss: 0.0219 - val_loss: 0.0237\n",
            "Epoch 28/80\n",
            "3/3 [==============================] - 0s 14ms/step - loss: 0.0218 - val_loss: 0.0239\n",
            "Epoch 29/80\n",
            "3/3 [==============================] - 0s 14ms/step - loss: 0.0220 - val_loss: 0.0243\n",
            "Epoch 30/80\n",
            "3/3 [==============================] - 0s 16ms/step - loss: 0.0218 - val_loss: 0.0243\n",
            "Epoch 31/80\n",
            "3/3 [==============================] - 0s 15ms/step - loss: 0.0220 - val_loss: 0.0257\n",
            "Epoch 32/80\n",
            "3/3 [==============================] - 0s 15ms/step - loss: 0.0236 - val_loss: 0.0245\n",
            "Epoch 33/80\n",
            "3/3 [==============================] - 0s 14ms/step - loss: 0.0250 - val_loss: 0.0245\n",
            "Epoch 34/80\n",
            "3/3 [==============================] - 0s 15ms/step - loss: 0.0212 - val_loss: 0.0291\n",
            "Epoch 35/80\n",
            "3/3 [==============================] - 0s 14ms/step - loss: 0.0222 - val_loss: 0.0243\n",
            "Epoch 36/80\n",
            "3/3 [==============================] - 0s 14ms/step - loss: 0.0249 - val_loss: 0.0265\n",
            "Epoch 37/80\n",
            "3/3 [==============================] - 0s 15ms/step - loss: 0.0259 - val_loss: 0.0261\n",
            "Epoch 38/80\n",
            "3/3 [==============================] - 0s 14ms/step - loss: 0.0236 - val_loss: 0.0249\n",
            "Epoch 39/80\n",
            "3/3 [==============================] - 0s 14ms/step - loss: 0.0214 - val_loss: 0.0297\n",
            "Epoch 40/80\n",
            "3/3 [==============================] - 0s 14ms/step - loss: 0.0228 - val_loss: 0.0239\n",
            "Epoch 41/80\n",
            "3/3 [==============================] - 0s 14ms/step - loss: 0.0226 - val_loss: 0.0243\n",
            "Epoch 42/80\n",
            "3/3 [==============================] - 0s 14ms/step - loss: 0.0219 - val_loss: 0.0250\n",
            "Epoch 43/80\n",
            "3/3 [==============================] - 0s 14ms/step - loss: 0.0217 - val_loss: 0.0248\n",
            "Epoch 44/80\n",
            "3/3 [==============================] - 0s 14ms/step - loss: 0.0252 - val_loss: 0.0259\n",
            "Epoch 45/80\n",
            "3/3 [==============================] - 0s 14ms/step - loss: 0.0249 - val_loss: 0.0258\n",
            "Epoch 46/80\n",
            "3/3 [==============================] - 0s 13ms/step - loss: 0.0213 - val_loss: 0.0247\n",
            "Epoch 47/80\n",
            "3/3 [==============================] - 0s 14ms/step - loss: 0.0236 - val_loss: 0.0262\n",
            "Epoch 48/80\n",
            "3/3 [==============================] - 0s 14ms/step - loss: 0.0227 - val_loss: 0.0243\n",
            "Epoch 49/80\n",
            "3/3 [==============================] - 0s 20ms/step - loss: 0.0224 - val_loss: 0.0258\n",
            "Epoch 50/80\n",
            "3/3 [==============================] - 0s 16ms/step - loss: 0.0229 - val_loss: 0.0243\n",
            "Epoch 51/80\n",
            "3/3 [==============================] - 0s 14ms/step - loss: 0.0216 - val_loss: 0.0262\n",
            "Epoch 52/80\n",
            "3/3 [==============================] - 0s 14ms/step - loss: 0.0248 - val_loss: 0.0238\n",
            "Epoch 53/80\n",
            "3/3 [==============================] - 0s 14ms/step - loss: 0.0252 - val_loss: 0.0245\n",
            "Epoch 54/80\n",
            "3/3 [==============================] - 0s 13ms/step - loss: 0.0221 - val_loss: 0.0256\n",
            "Epoch 55/80\n",
            "3/3 [==============================] - 0s 13ms/step - loss: 0.0234 - val_loss: 0.0239\n",
            "Epoch 56/80\n",
            "3/3 [==============================] - 0s 24ms/step - loss: 0.0218 - val_loss: 0.0260\n",
            "Epoch 57/80\n",
            "3/3 [==============================] - 0s 14ms/step - loss: 0.0239 - val_loss: 0.0239\n",
            "Epoch 58/80\n",
            "3/3 [==============================] - 0s 14ms/step - loss: 0.0276 - val_loss: 0.0261\n",
            "Epoch 59/80\n",
            "3/3 [==============================] - 0s 13ms/step - loss: 0.0248 - val_loss: 0.0241\n",
            "Epoch 60/80\n",
            "3/3 [==============================] - 0s 13ms/step - loss: 0.0223 - val_loss: 0.0336\n",
            "Epoch 61/80\n",
            "3/3 [==============================] - 0s 13ms/step - loss: 0.0257 - val_loss: 0.0246\n",
            "Epoch 62/80\n",
            "3/3 [==============================] - 0s 14ms/step - loss: 0.0249 - val_loss: 0.0264\n",
            "Epoch 63/80\n",
            "3/3 [==============================] - 0s 14ms/step - loss: 0.0257 - val_loss: 0.0253\n",
            "Epoch 64/80\n",
            "3/3 [==============================] - 0s 14ms/step - loss: 0.0231 - val_loss: 0.0244\n",
            "Epoch 65/80\n",
            "3/3 [==============================] - 0s 13ms/step - loss: 0.0255 - val_loss: 0.0261\n",
            "Epoch 66/80\n",
            "3/3 [==============================] - 0s 14ms/step - loss: 0.0230 - val_loss: 0.0231\n",
            "Epoch 67/80\n",
            "3/3 [==============================] - 0s 14ms/step - loss: 0.0222 - val_loss: 0.0258\n",
            "Epoch 68/80\n",
            "3/3 [==============================] - 0s 14ms/step - loss: 0.0227 - val_loss: 0.0239\n",
            "Epoch 69/80\n",
            "3/3 [==============================] - 0s 15ms/step - loss: 0.0236 - val_loss: 0.0274\n",
            "Epoch 70/80\n",
            "3/3 [==============================] - 0s 17ms/step - loss: 0.0231 - val_loss: 0.0266\n",
            "Epoch 71/80\n",
            "3/3 [==============================] - 0s 14ms/step - loss: 0.0226 - val_loss: 0.0233\n",
            "Epoch 72/80\n",
            "3/3 [==============================] - 0s 14ms/step - loss: 0.0225 - val_loss: 0.0245\n",
            "Epoch 73/80\n",
            "3/3 [==============================] - 0s 15ms/step - loss: 0.0242 - val_loss: 0.0232\n",
            "Epoch 74/80\n",
            "3/3 [==============================] - 0s 17ms/step - loss: 0.0228 - val_loss: 0.0252\n",
            "Epoch 75/80\n",
            "3/3 [==============================] - 0s 15ms/step - loss: 0.0240 - val_loss: 0.0237\n",
            "Epoch 76/80\n",
            "3/3 [==============================] - 0s 24ms/step - loss: 0.0220 - val_loss: 0.0241\n",
            "Epoch 77/80\n",
            "3/3 [==============================] - 0s 16ms/step - loss: 0.0219 - val_loss: 0.0259\n",
            "Epoch 78/80\n",
            "3/3 [==============================] - 0s 17ms/step - loss: 0.0231 - val_loss: 0.0229\n",
            "Epoch 79/80\n",
            "3/3 [==============================] - 0s 13ms/step - loss: 0.0207 - val_loss: 0.0250\n",
            "Epoch 80/80\n",
            "3/3 [==============================] - 0s 13ms/step - loss: 0.0217 - val_loss: 0.0239\n"
          ]
        }
      ]
    },
    {
      "cell_type": "markdown",
      "source": [
        "Plotar a função de perda"
      ],
      "metadata": {
        "id": "DiW38Pn8Iwmn"
      }
    },
    {
      "cell_type": "code",
      "source": [
        "plt.plot(r.history[\"loss\"], label=\"loss\")\n",
        "plt.plot(r.history[\"val_loss\"], label=\"val_loss\")\n",
        "plt.legend()"
      ],
      "metadata": {
        "colab": {
          "base_uri": "https://localhost:8080/",
          "height": 282
        },
        "id": "Ku-SJ7KUI088",
        "outputId": "47999044-d630-4fe1-8950-0c5afd343fe9"
      },
      "execution_count": 48,
      "outputs": [
        {
          "output_type": "execute_result",
          "data": {
            "text/plain": [
              "<matplotlib.legend.Legend at 0x7f39d8460910>"
            ]
          },
          "metadata": {},
          "execution_count": 48
        },
        {
          "output_type": "display_data",
          "data": {
            "text/plain": [
              "<Figure size 432x288 with 1 Axes>"
            ],
            "image/png": "[encoded data removed]"
          },
          "metadata": {
            "needs_background": "light"
          }
        }
      ]
    },
    {
      "cell_type": "markdown",
      "source": [
        "Predições: 1-step"
      ],
      "metadata": {
        "id": "LBaa8eN3I1qE"
      }
    },
    {
      "cell_type": "code",
      "source": [
        "validation_target = Y[-N//2:]\n",
        "validation_predictions = []\n",
        "i = -N//2\n",
        "while len(validation_predictions) < len(validation_target):\n",
        "    p = model.predict( X[i].reshape(1, -1, 1))[0, 0]\n",
        "    i += 1\n",
        "    validation_predictions.append(p)"
      ],
      "metadata": {
        "id": "wVJOf70xI7O-"
      },
      "execution_count": 59,
      "outputs": []
    },
    {
      "cell_type": "code",
      "source": [
        "for i in range(10):\n",
        "  print(\"target: \", validation_target[i])\n",
        "  print(\"prediction: \", validation_predictions[i])"
      ],
      "metadata": {
        "colab": {
          "base_uri": "https://localhost:8080/"
        },
        "id": "x1WlK08Be6EP",
        "outputId": "0407816c-f7eb-46c2-9d91-eaeabe1d1f68"
      },
      "execution_count": 65,
      "outputs": [
        {
          "output_type": "stream",
          "name": "stdout",
          "text": [
            "target:  -0.8290567801794386\n",
            "prediction:  -0.7189702\n",
            "target:  -0.8899320693471904\n",
            "prediction:  -0.76738304\n",
            "target:  -0.8951918260227109\n",
            "prediction:  -0.90298975\n",
            "target:  -0.9781818513786734\n",
            "prediction:  -0.92628366\n",
            "target:  -0.9511249083353006\n",
            "prediction:  -0.9763541\n",
            "target:  -1.146210109091485\n",
            "prediction:  -0.9042753\n",
            "target:  -0.8541944398473138\n",
            "prediction:  -1.0233557\n",
            "target:  -0.857430741580455\n",
            "prediction:  -0.7754508\n",
            "target:  -1.0583423823024065\n",
            "prediction:  -0.63162637\n",
            "target:  -0.8490865231967983\n",
            "prediction:  -0.94402915\n"
          ]
        }
      ]
    },
    {
      "cell_type": "markdown",
      "source": [
        "Plotar Observado x Predito"
      ],
      "metadata": {
        "id": "Zv7UhGhoI_Nw"
      }
    },
    {
      "cell_type": "code",
      "source": [
        "plt.plot(validation_target, label=\"Observado\")\n",
        "plt.plot(validation_predictions, label=\"Predito\")\n",
        "plt.legend()"
      ],
      "metadata": {
        "colab": {
          "base_uri": "https://localhost:8080/",
          "height": 282
        },
        "id": "5MDztWH3JDPE",
        "outputId": "44374286-1611-4444-9fa9-58f8ddfb75eb"
      },
      "execution_count": 66,
      "outputs": [
        {
          "output_type": "execute_result",
          "data": {
            "text/plain": [
              "<matplotlib.legend.Legend at 0x7f39d3c64310>"
            ]
          },
          "metadata": {},
          "execution_count": 66
        },
        {
          "output_type": "display_data",
          "data": {
            "text/plain": [
              "<Figure size 432x288 with 1 Axes>"
            ],
            "image/png": "[encoded data removed]"
          },
          "metadata": {
            "needs_background": "light"
          }
        }
      ]
    }
  ]
}
