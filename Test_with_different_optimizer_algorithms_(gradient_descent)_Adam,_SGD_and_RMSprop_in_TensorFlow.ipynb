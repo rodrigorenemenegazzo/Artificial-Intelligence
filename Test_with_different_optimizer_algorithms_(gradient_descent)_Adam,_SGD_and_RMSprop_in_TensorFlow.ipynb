{
  "nbformat": 4,
  "nbformat_minor": 0,
  "metadata": {
    "colab": {
      "name": "Test with different optimizer algorithms (gradient descent) Adam, SGD and RMSprop in TensorFlow",
      "provenance": [],
      "collapsed_sections": [],
      "authorship_tag": "ABX9TyOJ4oZvKp3aHIH87ZQWANon",
      "include_colab_link": true
    },
    "kernelspec": {
      "name": "python3",
      "display_name": "Python 3"
    },
    "language_info": {
      "name": "python"
    }
  },
  "cells": [
    {
      "cell_type": "markdown",
      "metadata": {
        "id": "view-in-github",
        "colab_type": "text"
      },
      "source": [
        "<a href=\"https://colab.research.google.com/github/rodrigorenemenegazzo/Artificial-Intelligence/blob/main/Test_with_different_optimizer_algorithms_(gradient_descent)_Adam%2C_SGD_and_RMSprop_in_TensorFlow.ipynb\" target=\"_parent\"><img src=\"https://colab.research.google.com/assets/colab-badge.svg\" alt=\"Open In Colab\"/></a>"
      ]
    },
    {
      "cell_type": "markdown",
      "source": [
        "###**Test with different optimizer algorithms (gradient descent) Adam, SGD and RMSprop in TensorFlow** \n"
      ],
      "metadata": {
        "id": "kgs1vj4l-lSH"
      }
    },
    {
      "cell_type": "markdown",
      "source": [
        "Rodrigo Rene Menegazzo\n",
        "\n",
        "Prática: Predição de Biomassa de Árvores e teste de algoritmos otimizadores.\n",
        "\n",
        "Predição de Biomassa de Árvores, baseado em:\n",
        "  * dap : diâmetro na altura do peito (1,30m)\n",
        "  * h : altura\n",
        "  * Me : densidade"
      ],
      "metadata": {
        "id": "1DtAxfdBdVW8"
      }
    },
    {
      "cell_type": "markdown",
      "source": [
        "Importação das biliotecas"
      ],
      "metadata": {
        "id": "n72SdUBLeQoR"
      }
    },
    {
      "cell_type": "code",
      "execution_count": 1,
      "metadata": {
        "colab": {
          "base_uri": "https://localhost:8080/",
          "height": 35
        },
        "id": "L93pu9NDNbCW",
        "outputId": "03acd80c-cdc6-4f7a-eb37-0543b37de44e"
      },
      "outputs": [
        {
          "output_type": "execute_result",
          "data": {
            "text/plain": [
              "'2.8.2'"
            ],
            "application/vnd.google.colaboratory.intrinsic+json": {
              "type": "string"
            }
          },
          "metadata": {},
          "execution_count": 1
        }
      ],
      "source": [
        "import tensorflow as tf\n",
        "import pandas as pd\n",
        "import numpy as np\n",
        "import matplotlib.pyplot as plt\n",
        "from tensorflow.python.keras import backend\n",
        "from sklearn.model_selection import train_test_split\n",
        "from sklearn.metrics import r2_score, mean_squared_error\n",
        "from math import sqrt\n",
        "tf.__version__"
      ]
    },
    {
      "cell_type": "markdown",
      "source": [
        "Carga da Base"
      ],
      "metadata": {
        "id": "UTeAO3glee3c"
      }
    },
    {
      "cell_type": "code",
      "source": [
        "!wget http://www.razer.net.br/datasets/Biomassa_REG.csv\n",
        "data = pd.read_csv(\"Biomassa_REG.csv\", sep=\";\", decimal=\",\").values\n",
        "X = data[:,0:3].astype(float)\n",
        "Y = data[:,3].astype(float)"
      ],
      "metadata": {
        "colab": {
          "base_uri": "https://localhost:8080/"
        },
        "id": "638WB4B-efid",
        "outputId": "0304e0bd-3224-429a-b16a-9d8373182660"
      },
      "execution_count": 2,
      "outputs": [
        {
          "output_type": "stream",
          "name": "stdout",
          "text": [
            "--2022-06-09 09:19:52--  http://www.razer.net.br/datasets/Biomassa_REG.csv\n",
            "Resolving www.razer.net.br (www.razer.net.br)... 178.128.150.229\n",
            "Connecting to www.razer.net.br (www.razer.net.br)|178.128.150.229|:80... connected.\n",
            "HTTP request sent, awaiting response... 200 OK\n",
            "Length: 82988 (81K) [text/csv]\n",
            "Saving to: ‘Biomassa_REG.csv.2’\n",
            "\n",
            "Biomassa_REG.csv.2  100%[===================>]  81.04K  --.-KB/s    in 0.1s    \n",
            "\n",
            "2022-06-09 09:19:53 (686 KB/s) - ‘Biomassa_REG.csv.2’ saved [82988/82988]\n",
            "\n"
          ]
        }
      ]
    },
    {
      "cell_type": "markdown",
      "source": [
        "Separar a base em Treino e Teste"
      ],
      "metadata": {
        "id": "Cpas5CNMffhZ"
      }
    },
    {
      "cell_type": "code",
      "source": [
        "from sklearn.model_selection import train_test_split\n",
        "x_train, x_test, y_train, y_test = train_test_split(X, Y, test_size=0.33)\n",
        "\n",
        "dap_train = x_train[:,0]\n",
        "h_train = x_train[:,1]\n",
        "\n",
        "dap_test = x_test[:,0]\n",
        "h_test = x_test[:,1]"
      ],
      "metadata": {
        "id": "qk_qP8KHoy-D"
      },
      "execution_count": 3,
      "outputs": []
    },
    {
      "cell_type": "markdown",
      "source": [
        "Criação do modelo\n",
        "\n",
        "3 Camadas\n",
        "  * Entrada: que recebe um vetor (3,)\n",
        "  * Escondida: com 50 neurônios e função de ativação ReLU\n",
        "  * Saída: Como é regressão, 1 neurônio e sem função de ativação (linear)"
      ],
      "metadata": {
        "id": "GcJXsuUKlL6c"
      }
    },
    {
      "cell_type": "code",
      "source": [
        "i = tf.keras.layers.Input(shape=(3,))\n",
        "x = tf.keras.layers.Dense(50, activation=\"relu\")(i)\n",
        "x = tf.keras.layers.Dense(1)(x)\n",
        "model = tf.keras.models.Model(i, x)"
      ],
      "metadata": {
        "id": "looffzcxldAc"
      },
      "execution_count": 4,
      "outputs": []
    },
    {
      "cell_type": "markdown",
      "source": [
        "Novas Métricas para o Treino\n",
        "  * Pode-se implementar qualquer métrica, em geral usa-se MSE (já implementada)\n",
        "  * Aqui serão adicionadas 2 Métricas\n",
        "   * Funções para cálculo\n",
        "   * RMSE: Raiz Quadrada do Erro Médio Quadrático\n",
        "   * R2: Coeficiente de Determinação\n",
        "   "
      ],
      "metadata": {
        "id": "TT3mz6IImAvf"
      }
    },
    {
      "cell_type": "code",
      "source": [
        "def rmse(y_true, y_pred):\n",
        "  return backend.sqrt(backend.mean( backend.square(y_pred - y_true), axis=-1) )\n",
        "\n",
        "def r2(y_true, y_pred):\n",
        "  media = backend.mean(y_true)\n",
        "  num = backend.sum (backend.square(y_true - y_pred))\n",
        "  den = backend.sum (backend.square(y_true - media))\n",
        "  return (1.0 - num/den)"
      ],
      "metadata": {
        "id": "yns22cPimvNn"
      },
      "execution_count": 5,
      "outputs": []
    },
    {
      "cell_type": "markdown",
      "source": [
        "Compilação e Treino do Modelo\n",
        "\n",
        "Ao compilar o modelo escolhe-se:\n",
        "  * O algoritmo otimizador (descida de gradiente)\n",
        "  * A função de perda (loss function)\n",
        "  * As métricas"
      ],
      "metadata": {
        "id": "rBOAmwUno86A"
      }
    },
    {
      "cell_type": "code",
      "source": [
        "#optimizer=tf.keras.optimizers.Adam(learning_rate=0.05)\n",
        "#optimizer=tf.keras.optimizers.SGD(learning_rate=0.2, momentum=0.5)\n",
        "optimizer=tf.keras.optimizers.RMSprop(0.01)\n",
        "\n",
        "model.compile(optimizer=optimizer,\n",
        "              loss=\"mse\",\n",
        "              metrics=[rmse, r2])"
      ],
      "metadata": {
        "id": "RTw0Q_Apndej"
      },
      "execution_count": 6,
      "outputs": []
    },
    {
      "cell_type": "markdown",
      "source": [
        "No treino, pode-se escolher parar antes de terminarem as épocas (EarlyStopping)\n",
        "  * Cadastra-se como um callback no treino\n",
        "  * patience: para quando resultar neste número de épocas sem melhora\n",
        "  * restore_best_weights: se é para restaurar os pesos da melhor época"
      ],
      "metadata": {
        "id": "0TCqnqpdtY8O"
      }
    },
    {
      "cell_type": "code",
      "source": [
        "early_stop = tf.keras.callbacks.EarlyStopping(\n",
        "                        monitor='val_loss',\n",
        "                        patience=20,\n",
        "                        restore_best_weights=True)\n",
        "rr = model.fit(x_train, y_train,\n",
        "              epochs=1500,\n",
        "              validation_data=(x_test, y_test),\n",
        "              callbacks=[early_stop])"
      ],
      "metadata": {
        "colab": {
          "base_uri": "https://localhost:8080/"
        },
        "id": "qd3pYIVBsZ-6",
        "outputId": "9d7795ad-e170-413e-d34b-c34500917ff8"
      },
      "execution_count": 7,
      "outputs": [
        {
          "output_type": "stream",
          "name": "stdout",
          "text": [
            "Epoch 1/1500\n",
            "84/84 [==============================] - 2s 7ms/step - loss: 12062645.0000 - rmse: 948.1693 - r2: 0.0376 - val_loss: 19099108.0000 - val_rmse: 1120.9838 - val_r2: 0.2418\n",
            "Epoch 2/1500\n",
            "84/84 [==============================] - 0s 4ms/step - loss: 8721275.0000 - rmse: 988.6434 - r2: 0.3658 - val_loss: 14562465.0000 - val_rmse: 1343.2211 - val_r2: 0.3786\n",
            "Epoch 3/1500\n",
            "84/84 [==============================] - 0s 5ms/step - loss: 7081222.5000 - rmse: 1226.3710 - r2: -0.0987 - val_loss: 12942915.0000 - val_rmse: 1468.6487 - val_r2: 0.2749\n",
            "Epoch 4/1500\n",
            "84/84 [==============================] - 0s 4ms/step - loss: 6453705.5000 - rmse: 1242.8773 - r2: -0.3859 - val_loss: 12046747.0000 - val_rmse: 1477.7926 - val_r2: 0.2366\n",
            "Epoch 5/1500\n",
            "84/84 [==============================] - 0s 4ms/step - loss: 6039522.0000 - rmse: 1252.0870 - r2: -0.3545 - val_loss: 11784572.0000 - val_rmse: 1278.8015 - val_r2: 0.3974\n",
            "Epoch 6/1500\n",
            "84/84 [==============================] - 0s 4ms/step - loss: 5686440.0000 - rmse: 1121.9639 - r2: 0.2219 - val_loss: 10944603.0000 - val_rmse: 1272.7330 - val_r2: 0.3520\n",
            "Epoch 7/1500\n",
            "84/84 [==============================] - 0s 5ms/step - loss: 5306357.0000 - rmse: 1061.7815 - r2: 0.1880 - val_loss: 10808232.0000 - val_rmse: 1065.2338 - val_r2: 0.4889\n",
            "Epoch 8/1500\n",
            "84/84 [==============================] - 0s 4ms/step - loss: 5073629.5000 - rmse: 919.6476 - r2: 0.3553 - val_loss: 10140770.0000 - val_rmse: 1075.1606 - val_r2: 0.4378\n",
            "Epoch 9/1500\n",
            "84/84 [==============================] - 1s 6ms/step - loss: 4848166.0000 - rmse: 902.8387 - r2: 0.2658 - val_loss: 9801283.0000 - val_rmse: 1053.6617 - val_r2: 0.4327\n",
            "Epoch 10/1500\n",
            "84/84 [==============================] - 0s 4ms/step - loss: 4708368.5000 - rmse: 906.2860 - r2: 0.3371 - val_loss: 9617783.0000 - val_rmse: 1039.1635 - val_r2: 0.4419\n",
            "Epoch 11/1500\n",
            "84/84 [==============================] - 1s 7ms/step - loss: 4573227.0000 - rmse: 897.2310 - r2: 0.1822 - val_loss: 9394067.0000 - val_rmse: 1061.8542 - val_r2: 0.4072\n",
            "Epoch 12/1500\n",
            "84/84 [==============================] - 0s 4ms/step - loss: 4547622.5000 - rmse: 923.7877 - r2: 0.1902 - val_loss: 9404211.0000 - val_rmse: 1051.8551 - val_r2: 0.4354\n",
            "Epoch 13/1500\n",
            "84/84 [==============================] - 0s 5ms/step - loss: 4494172.5000 - rmse: 939.4926 - r2: 0.2943 - val_loss: 9143846.0000 - val_rmse: 1096.0215 - val_r2: 0.3642\n",
            "Epoch 14/1500\n",
            "84/84 [==============================] - 0s 5ms/step - loss: 4383221.5000 - rmse: 927.0285 - r2: 0.2951 - val_loss: 8952839.0000 - val_rmse: 1202.1888 - val_r2: 0.1747\n",
            "Epoch 15/1500\n",
            "84/84 [==============================] - 0s 5ms/step - loss: 4410065.0000 - rmse: 985.1365 - r2: -0.1154 - val_loss: 9283861.0000 - val_rmse: 1079.7771 - val_r2: 0.4258\n",
            "Epoch 16/1500\n",
            "84/84 [==============================] - 0s 4ms/step - loss: 4399872.5000 - rmse: 960.7646 - r2: 0.1513 - val_loss: 8945861.0000 - val_rmse: 1140.4230 - val_r2: 0.3014\n",
            "Epoch 17/1500\n",
            "84/84 [==============================] - 0s 4ms/step - loss: 4388531.0000 - rmse: 983.7150 - r2: 0.2031 - val_loss: 9006807.0000 - val_rmse: 1124.3707 - val_r2: 0.3499\n",
            "Epoch 18/1500\n",
            "84/84 [==============================] - 0s 4ms/step - loss: 4405361.5000 - rmse: 987.1796 - r2: 0.1544 - val_loss: 9044425.0000 - val_rmse: 1119.0382 - val_r2: 0.3662\n",
            "Epoch 19/1500\n",
            "84/84 [==============================] - 0s 5ms/step - loss: 4408564.0000 - rmse: 988.2535 - r2: 0.0795 - val_loss: 8921679.0000 - val_rmse: 1143.7737 - val_r2: 0.3170\n",
            "Epoch 20/1500\n",
            "84/84 [==============================] - 0s 4ms/step - loss: 4389055.5000 - rmse: 991.9594 - r2: 0.4459 - val_loss: 8869981.0000 - val_rmse: 1158.2748 - val_r2: 0.2876\n",
            "Epoch 21/1500\n",
            "84/84 [==============================] - 0s 5ms/step - loss: 4390805.0000 - rmse: 1002.6992 - r2: 0.0046 - val_loss: 8868694.0000 - val_rmse: 1157.8098 - val_r2: 0.2981\n",
            "Epoch 22/1500\n",
            "84/84 [==============================] - 0s 5ms/step - loss: 4373149.5000 - rmse: 1011.3526 - r2: 0.0015 - val_loss: 9117297.0000 - val_rmse: 1122.3409 - val_r2: 0.3907\n",
            "Epoch 23/1500\n",
            "84/84 [==============================] - 0s 5ms/step - loss: 4385829.0000 - rmse: 1005.8793 - r2: -9.6162e-04 - val_loss: 8927522.0000 - val_rmse: 1144.4021 - val_r2: 0.3308\n",
            "Epoch 24/1500\n",
            "84/84 [==============================] - 1s 7ms/step - loss: 4373671.0000 - rmse: 983.2178 - r2: 0.2499 - val_loss: 8816525.0000 - val_rmse: 1184.5680 - val_r2: 0.2362\n",
            "Epoch 25/1500\n",
            "84/84 [==============================] - 0s 5ms/step - loss: 4357594.0000 - rmse: 1019.4250 - r2: -0.2151 - val_loss: 9146100.0000 - val_rmse: 1118.9813 - val_r2: 0.4005\n",
            "Epoch 26/1500\n",
            "84/84 [==============================] - 1s 7ms/step - loss: 4418971.0000 - rmse: 978.2946 - r2: 0.3002 - val_loss: 8840079.0000 - val_rmse: 1176.3499 - val_r2: 0.2551\n",
            "Epoch 27/1500\n",
            "84/84 [==============================] - 0s 6ms/step - loss: 4403297.0000 - rmse: 994.9269 - r2: -0.2253 - val_loss: 8869900.0000 - val_rmse: 1159.8923 - val_r2: 0.2944\n",
            "Epoch 28/1500\n",
            "84/84 [==============================] - 0s 4ms/step - loss: 4377488.0000 - rmse: 1004.6968 - r2: 0.2547 - val_loss: 8838770.0000 - val_rmse: 1169.0833 - val_r2: 0.2797\n",
            "Epoch 29/1500\n",
            "84/84 [==============================] - 0s 5ms/step - loss: 4330908.0000 - rmse: 1020.7990 - r2: 0.1933 - val_loss: 9095775.0000 - val_rmse: 1123.1093 - val_r2: 0.3916\n",
            "Epoch 30/1500\n",
            "84/84 [==============================] - 1s 7ms/step - loss: 4387699.0000 - rmse: 1000.5106 - r2: 0.1998 - val_loss: 8815307.0000 - val_rmse: 1176.1890 - val_r2: 0.2680\n",
            "Epoch 31/1500\n",
            "84/84 [==============================] - 1s 7ms/step - loss: 4358600.0000 - rmse: 1020.9968 - r2: -0.0383 - val_loss: 8881056.0000 - val_rmse: 1157.2015 - val_r2: 0.3210\n",
            "Epoch 32/1500\n",
            "84/84 [==============================] - 0s 4ms/step - loss: 4376705.0000 - rmse: 1003.8918 - r2: -0.0657 - val_loss: 8751772.0000 - val_rmse: 1207.1001 - val_r2: 0.2047\n",
            "Epoch 33/1500\n",
            "84/84 [==============================] - 0s 5ms/step - loss: 4348587.0000 - rmse: 1034.8226 - r2: 0.1211 - val_loss: 8803384.0000 - val_rmse: 1177.2041 - val_r2: 0.2748\n",
            "Epoch 34/1500\n",
            "84/84 [==============================] - 0s 5ms/step - loss: 4353463.0000 - rmse: 1003.4259 - r2: 0.2530 - val_loss: 8741496.0000 - val_rmse: 1220.1122 - val_r2: 0.1787\n",
            "Epoch 35/1500\n",
            "84/84 [==============================] - 0s 6ms/step - loss: 4373856.5000 - rmse: 1028.9767 - r2: 0.1929 - val_loss: 8802256.0000 - val_rmse: 1176.6357 - val_r2: 0.2811\n",
            "Epoch 36/1500\n",
            "84/84 [==============================] - 0s 5ms/step - loss: 4363686.0000 - rmse: 1030.0933 - r2: -0.1543 - val_loss: 8819106.0000 - val_rmse: 1172.1277 - val_r2: 0.2966\n",
            "Epoch 37/1500\n",
            "84/84 [==============================] - 0s 4ms/step - loss: 4353450.5000 - rmse: 1023.9407 - r2: -0.0268 - val_loss: 8883958.0000 - val_rmse: 1156.6813 - val_r2: 0.3285\n",
            "Epoch 38/1500\n",
            "84/84 [==============================] - 0s 3ms/step - loss: 4371326.0000 - rmse: 1017.8446 - r2: -0.0636 - val_loss: 8886097.0000 - val_rmse: 1156.6245 - val_r2: 0.3307\n",
            "Epoch 39/1500\n",
            "84/84 [==============================] - 1s 7ms/step - loss: 4376048.5000 - rmse: 1013.0398 - r2: -0.0514 - val_loss: 8810052.0000 - val_rmse: 1172.7860 - val_r2: 0.2889\n",
            "Epoch 40/1500\n",
            "84/84 [==============================] - 0s 5ms/step - loss: 4394040.0000 - rmse: 1009.8419 - r2: -0.2790 - val_loss: 8870336.0000 - val_rmse: 1156.2045 - val_r2: 0.3209\n",
            "Epoch 41/1500\n",
            "84/84 [==============================] - 0s 4ms/step - loss: 4346517.5000 - rmse: 1015.9734 - r2: 0.2532 - val_loss: 8848137.0000 - val_rmse: 1161.3682 - val_r2: 0.3091\n",
            "Epoch 42/1500\n",
            "84/84 [==============================] - 0s 5ms/step - loss: 4356386.5000 - rmse: 1014.6984 - r2: 0.2447 - val_loss: 8834885.0000 - val_rmse: 1164.9222 - val_r2: 0.3093\n",
            "Epoch 43/1500\n",
            "84/84 [==============================] - 1s 6ms/step - loss: 4364370.0000 - rmse: 1008.2305 - r2: 0.2592 - val_loss: 8785788.0000 - val_rmse: 1178.5045 - val_r2: 0.2762\n",
            "Epoch 44/1500\n",
            "84/84 [==============================] - 0s 6ms/step - loss: 4372365.0000 - rmse: 1020.9248 - r2: 0.1288 - val_loss: 8931075.0000 - val_rmse: 1145.1971 - val_r2: 0.3529\n",
            "Epoch 45/1500\n",
            "84/84 [==============================] - 1s 6ms/step - loss: 4381812.5000 - rmse: 1007.2339 - r2: -0.0449 - val_loss: 8863184.0000 - val_rmse: 1155.9762 - val_r2: 0.3240\n",
            "Epoch 46/1500\n",
            "84/84 [==============================] - 0s 3ms/step - loss: 4352255.5000 - rmse: 1015.8978 - r2: 0.4167 - val_loss: 8910505.0000 - val_rmse: 1146.5122 - val_r2: 0.3457\n",
            "Epoch 47/1500\n",
            "84/84 [==============================] - 0s 5ms/step - loss: 4369508.5000 - rmse: 1004.5908 - r2: 0.2527 - val_loss: 8789822.0000 - val_rmse: 1176.8860 - val_r2: 0.2789\n",
            "Epoch 48/1500\n",
            "84/84 [==============================] - 0s 5ms/step - loss: 4324272.0000 - rmse: 1023.4180 - r2: 0.0575 - val_loss: 9200621.0000 - val_rmse: 1125.4012 - val_r2: 0.4186\n",
            "Epoch 49/1500\n",
            "84/84 [==============================] - 0s 6ms/step - loss: 4368367.5000 - rmse: 1008.7355 - r2: 0.2469 - val_loss: 8972882.0000 - val_rmse: 1136.6895 - val_r2: 0.3702\n",
            "Epoch 50/1500\n",
            "84/84 [==============================] - 0s 5ms/step - loss: 4349772.0000 - rmse: 1019.8278 - r2: 0.2813 - val_loss: 8983207.0000 - val_rmse: 1137.2092 - val_r2: 0.3739\n",
            "Epoch 51/1500\n",
            "84/84 [==============================] - 0s 5ms/step - loss: 4341921.0000 - rmse: 996.3318 - r2: 0.2318 - val_loss: 8735166.0000 - val_rmse: 1213.4515 - val_r2: 0.1997\n",
            "Epoch 52/1500\n",
            "84/84 [==============================] - 0s 5ms/step - loss: 4373618.5000 - rmse: 1016.4213 - r2: -0.0078 - val_loss: 8886595.0000 - val_rmse: 1148.9071 - val_r2: 0.3387\n",
            "Epoch 53/1500\n",
            "84/84 [==============================] - 0s 5ms/step - loss: 4354609.5000 - rmse: 1016.9404 - r2: 0.2402 - val_loss: 8952697.0000 - val_rmse: 1139.1122 - val_r2: 0.3666\n",
            "Epoch 54/1500\n",
            "84/84 [==============================] - 0s 4ms/step - loss: 4352166.0000 - rmse: 1013.6718 - r2: 0.0975 - val_loss: 8899066.0000 - val_rmse: 1146.4402 - val_r2: 0.3472\n",
            "Epoch 55/1500\n",
            "84/84 [==============================] - 0s 3ms/step - loss: 4365025.0000 - rmse: 1009.2643 - r2: 0.2075 - val_loss: 8873916.0000 - val_rmse: 1151.3038 - val_r2: 0.3373\n",
            "Epoch 56/1500\n",
            "84/84 [==============================] - 0s 3ms/step - loss: 4334158.5000 - rmse: 1017.6728 - r2: 0.2247 - val_loss: 9179701.0000 - val_rmse: 1118.5995 - val_r2: 0.4227\n",
            "Epoch 57/1500\n",
            "84/84 [==============================] - 0s 3ms/step - loss: 4376695.0000 - rmse: 1012.5269 - r2: 0.2156 - val_loss: 9079211.0000 - val_rmse: 1124.2377 - val_r2: 0.4036\n",
            "Epoch 58/1500\n",
            "84/84 [==============================] - 0s 6ms/step - loss: 4376991.5000 - rmse: 1005.0850 - r2: 0.3441 - val_loss: 8872378.0000 - val_rmse: 1149.4821 - val_r2: 0.3367\n",
            "Epoch 59/1500\n",
            "84/84 [==============================] - 0s 4ms/step - loss: 4334762.5000 - rmse: 1018.8734 - r2: 0.0901 - val_loss: 9265913.0000 - val_rmse: 1114.6190 - val_r2: 0.4376\n",
            "Epoch 60/1500\n",
            "84/84 [==============================] - 0s 5ms/step - loss: 4376954.5000 - rmse: 994.8684 - r2: 0.1580 - val_loss: 8999338.0000 - val_rmse: 1127.8021 - val_r2: 0.3859\n",
            "Epoch 61/1500\n",
            "84/84 [==============================] - 0s 5ms/step - loss: 4365966.0000 - rmse: 1002.9788 - r2: 0.3745 - val_loss: 8837183.0000 - val_rmse: 1156.8741 - val_r2: 0.3219\n",
            "Epoch 62/1500\n",
            "84/84 [==============================] - 0s 6ms/step - loss: 4363707.0000 - rmse: 1009.6901 - r2: 0.2662 - val_loss: 8793879.0000 - val_rmse: 1168.9940 - val_r2: 0.2977\n",
            "Epoch 63/1500\n",
            "84/84 [==============================] - 0s 5ms/step - loss: 4334462.0000 - rmse: 1001.1891 - r2: 0.2193 - val_loss: 8720033.0000 - val_rmse: 1210.6201 - val_r2: 0.2080\n",
            "Epoch 64/1500\n",
            "84/84 [==============================] - 0s 5ms/step - loss: 4305979.5000 - rmse: 1004.3352 - r2: 0.1971 - val_loss: 8734357.0000 - val_rmse: 1198.7848 - val_r2: 0.2326\n",
            "Epoch 65/1500\n",
            "84/84 [==============================] - 0s 5ms/step - loss: 4336063.5000 - rmse: 1027.1525 - r2: 0.1274 - val_loss: 9011937.0000 - val_rmse: 1133.0271 - val_r2: 0.3905\n",
            "Epoch 66/1500\n",
            "84/84 [==============================] - 0s 4ms/step - loss: 4333078.0000 - rmse: 1018.1714 - r2: 0.0055 - val_loss: 9045945.0000 - val_rmse: 1129.1951 - val_r2: 0.3995\n",
            "Epoch 67/1500\n",
            "84/84 [==============================] - 0s 6ms/step - loss: 4370015.5000 - rmse: 1000.4742 - r2: 0.1587 - val_loss: 8915924.0000 - val_rmse: 1139.5620 - val_r2: 0.3643\n",
            "Epoch 68/1500\n",
            "84/84 [==============================] - 0s 5ms/step - loss: 4347945.0000 - rmse: 1000.0350 - r2: 0.0744 - val_loss: 8787550.0000 - val_rmse: 1167.5800 - val_r2: 0.3024\n",
            "Epoch 69/1500\n",
            "84/84 [==============================] - 0s 5ms/step - loss: 4362564.0000 - rmse: 1007.4407 - r2: 0.2489 - val_loss: 8814535.0000 - val_rmse: 1159.5651 - val_r2: 0.3179\n",
            "Epoch 70/1500\n",
            "84/84 [==============================] - 0s 2ms/step - loss: 4336393.0000 - rmse: 1020.4896 - r2: -8.3652e-04 - val_loss: 8985450.0000 - val_rmse: 1132.2607 - val_r2: 0.3876\n",
            "Epoch 71/1500\n",
            "84/84 [==============================] - 0s 2ms/step - loss: 4356232.5000 - rmse: 1007.5419 - r2: 0.0777 - val_loss: 8839070.0000 - val_rmse: 1152.2548 - val_r2: 0.3373\n",
            "Epoch 72/1500\n",
            "84/84 [==============================] - 0s 2ms/step - loss: 4331386.0000 - rmse: 1023.7956 - r2: 0.2586 - val_loss: 9199985.0000 - val_rmse: 1119.6842 - val_r2: 0.4310\n",
            "Epoch 73/1500\n",
            "84/84 [==============================] - 0s 2ms/step - loss: 4335566.5000 - rmse: 1001.2519 - r2: 0.3952 - val_loss: 8826379.0000 - val_rmse: 1153.2552 - val_r2: 0.3308\n",
            "Epoch 74/1500\n",
            "84/84 [==============================] - 0s 2ms/step - loss: 4326849.5000 - rmse: 1011.9411 - r2: 0.2132 - val_loss: 8765734.0000 - val_rmse: 1167.9633 - val_r2: 0.3034\n",
            "Epoch 75/1500\n",
            "84/84 [==============================] - 0s 2ms/step - loss: 4329220.0000 - rmse: 1017.8058 - r2: 0.2181 - val_loss: 8887195.0000 - val_rmse: 1140.0695 - val_r2: 0.3639\n",
            "Epoch 76/1500\n",
            "84/84 [==============================] - 0s 2ms/step - loss: 4380508.0000 - rmse: 995.3668 - r2: 0.2288 - val_loss: 9106592.0000 - val_rmse: 1109.2427 - val_r2: 0.4253\n",
            "Epoch 77/1500\n",
            "84/84 [==============================] - 0s 3ms/step - loss: 4352791.5000 - rmse: 993.8404 - r2: 0.3307 - val_loss: 8795650.0000 - val_rmse: 1152.1300 - val_r2: 0.3254\n",
            "Epoch 78/1500\n",
            "84/84 [==============================] - 0s 2ms/step - loss: 4283501.0000 - rmse: 995.2681 - r2: 0.3180 - val_loss: 8743021.0000 - val_rmse: 1166.6775 - val_r2: 0.2907\n",
            "Epoch 79/1500\n",
            "84/84 [==============================] - 0s 2ms/step - loss: 4329852.5000 - rmse: 1007.5258 - r2: 0.2304 - val_loss: 8901899.0000 - val_rmse: 1126.8024 - val_r2: 0.3803\n",
            "Epoch 80/1500\n",
            "84/84 [==============================] - 0s 2ms/step - loss: 4294823.5000 - rmse: 997.9003 - r2: 0.2318 - val_loss: 8937847.0000 - val_rmse: 1119.1541 - val_r2: 0.3943\n",
            "Epoch 81/1500\n",
            "84/84 [==============================] - 0s 2ms/step - loss: 4271228.5000 - rmse: 1013.9455 - r2: 0.2368 - val_loss: 9048740.0000 - val_rmse: 1108.2394 - val_r2: 0.4232\n",
            "Epoch 82/1500\n",
            "84/84 [==============================] - 0s 2ms/step - loss: 4313818.0000 - rmse: 996.7256 - r2: 0.0316 - val_loss: 8974987.0000 - val_rmse: 1110.6595 - val_r2: 0.4096\n",
            "Epoch 83/1500\n",
            "84/84 [==============================] - 0s 2ms/step - loss: 4304645.0000 - rmse: 994.6550 - r2: 0.0817 - val_loss: 8737706.0000 - val_rmse: 1149.5253 - val_r2: 0.3222\n"
          ]
        }
      ]
    },
    {
      "cell_type": "markdown",
      "source": [
        "Avaliação do modelo\n",
        "\n",
        "Plotar os valores da função de perda (loss e val_loss) e das métricas RMSE\n",
        "(rmse e val_rmse) e R2 (r2 e val_r2)"
      ],
      "metadata": {
        "id": "hUgeKLQEtdOz"
      }
    },
    {
      "cell_type": "code",
      "source": [
        "plt.plot( rr.history[\"loss\"], label=\"loss\" )\n",
        "plt.plot( rr.history[\"val_loss\"], label=\"val_loss\" )\n",
        "plt.legend()\n",
        "\n",
        "plt.plot( rr.history[\"rmse\"], label=\"rmse\" )\n",
        "plt.plot( rr.history[\"val_rmse\"], label=\"val_rmse\" )\n",
        "plt.legend()\n",
        "\n",
        "plt.plot( rr.history[\"r2\"], label=\"r2\" )\n",
        "plt.plot( rr.history[\"val_r2\"], label=\"val_r2\" )\n",
        "plt.legend()"
      ],
      "metadata": {
        "id": "PDfOegnou0Q5",
        "colab": {
          "base_uri": "https://localhost:8080/",
          "height": 293
        },
        "outputId": "eb94b8dd-cd82-4680-ac34-303a11afe4ea"
      },
      "execution_count": 8,
      "outputs": [
        {
          "output_type": "execute_result",
          "data": {
            "text/plain": [
              "<matplotlib.legend.Legend at 0x7f4dc3b21b50>"
            ]
          },
          "metadata": {},
          "execution_count": 8
        },
        {
          "output_type": "display_data",
          "data": {
            "text/plain": [
              "<Figure size 432x288 with 1 Axes>"
            ],
            "image/png": "[encoded data removed]"
          },
          "metadata": {
            "needs_background": "light"
          }
        }
      ]
    },
    {
      "cell_type": "markdown",
      "source": [
        "Faz-se predições e calcula-se a qualidade do modelo"
      ],
      "metadata": {
        "id": "t5BEAnU5vVw1"
      }
    },
    {
      "cell_type": "code",
      "source": [
        "y_pred = model.predict(x_test).flatten()\n",
        "mse = mean_squared_error(y_test, y_pred)\n",
        "rmse = sqrt(mse)\n",
        "r2 = r2_score(y_test, y_pred)\n",
        "print(\"mse = \", mse)\n",
        "print(\"rmse = \", rmse)\n",
        "print(\"r2 = \", r2)"
      ],
      "metadata": {
        "id": "srsFc-u9vaKJ",
        "colab": {
          "base_uri": "https://localhost:8080/"
        },
        "outputId": "f8c57515-a264-4380-fbfb-98afbda995f3"
      },
      "execution_count": 9,
      "outputs": [
        {
          "output_type": "stream",
          "name": "stdout",
          "text": [
            "mse =  8720033.65348214\n",
            "rmse =  2952.9703102947274\n",
            "r2 =  0.595844031422569\n"
          ]
        }
      ]
    },
    {
      "cell_type": "markdown",
      "source": [
        "Plotar o Gráfico de Regressão\n",
        "  * Baseado no DAP como eixo X"
      ],
      "metadata": {
        "id": "A4GzjlETvkiY"
      }
    },
    {
      "cell_type": "code",
      "source": [
        "plt.scatter(dap_test, y_test, label=\"Observado\")\n",
        "plt.scatter(dap_test, y_pred, label=\"Predito\")\n",
        "plt.title(\"dap x Biomassa\")\n",
        "plt.xlabel(\"dap\")\n",
        "plt.ylabel(\"Biomassa\")\n",
        "plt.legend()\n",
        "plt.show()"
      ],
      "metadata": {
        "colab": {
          "base_uri": "https://localhost:8080/",
          "height": 295
        },
        "id": "DAl2m81tvxYp",
        "outputId": "dbbe119d-c33f-44bc-e7d5-441f9ebf1d00"
      },
      "execution_count": 10,
      "outputs": [
        {
          "output_type": "display_data",
          "data": {
            "text/plain": [
              "<Figure size 432x288 with 1 Axes>"
            ],
            "image/png": "[encoded data removed]"
          },
          "metadata": {
            "needs_background": "light"
          }
        }
      ]
    },
    {
      "cell_type": "markdown",
      "source": [
        ""
      ],
      "metadata": {
        "id": "3P-G-Vym-hFz"
      }
    },
    {
      "cell_type": "markdown",
      "source": [
        "**Test with different optimizer algorithms (gradient descent)**\n",
        "\n",
        "optimizer=tf.keras.optimizers.Adam(learning_rate=0.05)\n",
        "\n",
        "  * mse =  2125833.6904375567\n",
        "  * rmse =  1458.0238991311346\n",
        "  * r2 =  0.8300823011846128\n",
        "\n",
        "optimizer=tf.keras.optimizers.SGD(learning_rate=0.2, momentum=0.5)\n",
        "  * mse =  15387339.482373986\n",
        "  * rmse =  3922.6699430839176\n",
        "  * r2 =  -1.9484400981539807e-07\n",
        "\n",
        "optimizer=tf.keras.optimizers.RMSprop(0.01)\n",
        "  * mse =  8720033.65348214\n",
        "  * rmse =  2952.9703102947274\n",
        "  * r2 =  0.595844031422569\n",
        "\n",
        "**The best optimizer for this dataset was the ADAM with the lower value of RMSE and the higher value of R2.**\n",
        "\n"
      ],
      "metadata": {
        "id": "lxT1rIBUuitE"
      }
    }
  ]
}