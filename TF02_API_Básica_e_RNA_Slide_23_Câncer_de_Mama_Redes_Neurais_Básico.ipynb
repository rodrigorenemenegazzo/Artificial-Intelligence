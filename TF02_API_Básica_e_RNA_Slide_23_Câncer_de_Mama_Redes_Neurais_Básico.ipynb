{
  "nbformat": 4,
  "nbformat_minor": 0,
  "metadata": {
    "colab": {
      "name": "TF02--API Básica e RNA - Slide 23 - Câncer de Mama: Redes Neurais Básico",
      "provenance": [],
      "collapsed_sections": [],
      "authorship_tag": "ABX9TyMQ1t+Ww46MQP6csRoK4fDK",
      "include_colab_link": true
    },
    "kernelspec": {
      "name": "python3",
      "display_name": "Python 3"
    },
    "language_info": {
      "name": "python"
    }
  },
  "cells": [
    {
      "cell_type": "markdown",
      "metadata": {
        "id": "view-in-github",
        "colab_type": "text"
      },
      "source": [
        "<a href=\"https://colab.research.google.com/github/rodrigorenemenegazzo/Artificial-Intelligence/blob/main/TF02_API_B%C3%A1sica_e_RNA_Slide_23_C%C3%A2ncer_de_Mama_Redes_Neurais_B%C3%A1sico.ipynb\" target=\"_parent\"><img src=\"https://colab.research.google.com/assets/colab-badge.svg\" alt=\"Open In Colab\"/></a>"
      ]
    },
    {
      "cell_type": "markdown",
      "source": [
        "Rodrigo Rene Menegazzo\n",
        "\n",
        "Prática: CÂNCER DE MAMA\n",
        "\n",
        "Base com dados de sangue para detecção de câncer de mama\n",
        "  * 593 amostras\n",
        "  * 30 atributos\n",
        "  * 2 classes: malígno/benígno\n",
        "  * Base carrega de sklearn\n",
        "\n",
        "Estratégia:\n",
        "  * Rede neural com: Entrada e 1 neurônio\n",
        "  * Classificação – 2 classes\n",
        "  * Função de ativação Sigmóide (0 – 1)\n",
        "  * Otimizador : adam\n",
        "  * Perda : binary_crossentropy\n",
        "  * Métrica : Acurácia"
      ],
      "metadata": {
        "id": "1DtAxfdBdVW8"
      }
    },
    {
      "cell_type": "markdown",
      "source": [
        "Carga dos dados"
      ],
      "metadata": {
        "id": "n72SdUBLeQoR"
      }
    },
    {
      "cell_type": "code",
      "execution_count": 2,
      "metadata": {
        "colab": {
          "base_uri": "https://localhost:8080/"
        },
        "id": "L93pu9NDNbCW",
        "outputId": "e1c34b68-3a24-4911-cf6a-9ff3e1dd50af"
      },
      "outputs": [
        {
          "output_type": "stream",
          "name": "stdout",
          "text": [
            "<class 'sklearn.utils.Bunch'> \n",
            " dict_keys(['data', 'target', 'frame', 'target_names', 'DESCR', 'feature_names', 'filename', 'data_module'])\n"
          ]
        }
      ],
      "source": [
        "from sklearn.datasets import load_breast_cancer\n",
        "data = load_breast_cancer()\n",
        "print(type(data), \"\\n\", data.keys())"
      ]
    },
    {
      "cell_type": "markdown",
      "source": [
        "Visualizar o formato dos dados"
      ],
      "metadata": {
        "id": "UTeAO3glee3c"
      }
    },
    {
      "cell_type": "code",
      "source": [
        "print(data.data.shape, data.target, data.target_names, data.feature_names, data.target.shape)"
      ],
      "metadata": {
        "colab": {
          "base_uri": "https://localhost:8080/"
        },
        "id": "638WB4B-efid",
        "outputId": "28ad45cc-1d76-4b63-d9cb-122a83fde049"
      },
      "execution_count": 3,
      "outputs": [
        {
          "output_type": "stream",
          "name": "stdout",
          "text": [
            "(569, 30) [0 0 0 0 0 0 0 0 0 0 0 0 0 0 0 0 0 0 0 1 1 1 0 0 0 0 0 0 0 0 0 0 0 0 0 0 0\n",
            " 1 0 0 0 0 0 0 0 0 1 0 1 1 1 1 1 0 0 1 0 0 1 1 1 1 0 1 0 0 1 1 1 1 0 1 0 0\n",
            " 1 0 1 0 0 1 1 1 0 0 1 0 0 0 1 1 1 0 1 1 0 0 1 1 1 0 0 1 1 1 1 0 1 1 0 1 1\n",
            " 1 1 1 1 1 1 0 0 0 1 0 0 1 1 1 0 0 1 0 1 0 0 1 0 0 1 1 0 1 1 0 1 1 1 1 0 1\n",
            " 1 1 1 1 1 1 1 1 0 1 1 1 1 0 0 1 0 1 1 0 0 1 1 0 0 1 1 1 1 0 1 1 0 0 0 1 0\n",
            " 1 0 1 1 1 0 1 1 0 0 1 0 0 0 0 1 0 0 0 1 0 1 0 1 1 0 1 0 0 0 0 1 1 0 0 1 1\n",
            " 1 0 1 1 1 1 1 0 0 1 1 0 1 1 0 0 1 0 1 1 1 1 0 1 1 1 1 1 0 1 0 0 0 0 0 0 0\n",
            " 0 0 0 0 0 0 0 1 1 1 1 1 1 0 1 0 1 1 0 1 1 0 1 0 0 1 1 1 1 1 1 1 1 1 1 1 1\n",
            " 1 0 1 1 0 1 0 1 1 1 1 1 1 1 1 1 1 1 1 1 1 0 1 1 1 0 1 0 1 1 1 1 0 0 0 1 1\n",
            " 1 1 0 1 0 1 0 1 1 1 0 1 1 1 1 1 1 1 0 0 0 1 1 1 1 1 1 1 1 1 1 1 0 0 1 0 0\n",
            " 0 1 0 0 1 1 1 1 1 0 1 1 1 1 1 0 1 1 1 0 1 1 0 0 1 1 1 1 1 1 0 1 1 1 1 1 1\n",
            " 1 0 1 1 1 1 1 0 1 1 0 1 1 1 1 1 1 1 1 1 1 1 1 0 1 0 0 1 0 1 1 1 1 1 0 1 1\n",
            " 0 1 0 1 1 0 1 0 1 1 1 1 1 1 1 1 0 0 1 1 1 1 1 1 0 1 1 1 1 1 1 1 1 1 1 0 1\n",
            " 1 1 1 1 1 1 0 1 0 1 1 0 1 1 1 1 1 0 0 1 0 1 0 1 1 1 1 1 0 1 1 0 1 0 1 0 0\n",
            " 1 1 1 0 1 1 1 1 1 1 1 1 1 1 1 0 1 0 0 1 1 1 1 1 1 1 1 1 1 1 1 1 1 1 1 1 1\n",
            " 1 1 1 1 1 1 1 0 0 0 0 0 0 1] ['malignant' 'benign'] ['mean radius' 'mean texture' 'mean perimeter' 'mean area'\n",
            " 'mean smoothness' 'mean compactness' 'mean concavity'\n",
            " 'mean concave points' 'mean symmetry' 'mean fractal dimension'\n",
            " 'radius error' 'texture error' 'perimeter error' 'area error'\n",
            " 'smoothness error' 'compactness error' 'concavity error'\n",
            " 'concave points error' 'symmetry error' 'fractal dimension error'\n",
            " 'worst radius' 'worst texture' 'worst perimeter' 'worst area'\n",
            " 'worst smoothness' 'worst compactness' 'worst concavity'\n",
            " 'worst concave points' 'worst symmetry' 'worst fractal dimension'] (569,)\n"
          ]
        }
      ]
    },
    {
      "cell_type": "markdown",
      "source": [
        "Separar a base em Treino e Teste"
      ],
      "metadata": {
        "id": "Cpas5CNMffhZ"
      }
    },
    {
      "cell_type": "code",
      "source": [
        "from sklearn.model_selection import train_test_split\n",
        "X_train, X_test, Y_train, Y_test = train_test_split(data.data, data.target, test_size=0.33)\n",
        "N, D = X_train.shape"
      ],
      "metadata": {
        "id": "qk_qP8KHoy-D"
      },
      "execution_count": 4,
      "outputs": []
    },
    {
      "cell_type": "code",
      "source": [
        "#Antes do pré-processamento\n",
        "print(X_train[0][0],\n",
        "X_test[0][0])\n"
      ],
      "metadata": {
        "colab": {
          "base_uri": "https://localhost:8080/"
        },
        "id": "y1yDLw1bpNXA",
        "outputId": "c506f9d0-fb06-48da-b408-2bde61df7158"
      },
      "execution_count": 5,
      "outputs": [
        {
          "output_type": "stream",
          "name": "stdout",
          "text": [
            "21.16 19.59\n"
          ]
        }
      ]
    },
    {
      "cell_type": "markdown",
      "source": [
        "Pré-processsamento"
      ],
      "metadata": {
        "id": "rBOAmwUno86A"
      }
    },
    {
      "cell_type": "code",
      "source": [
        "from sklearn.preprocessing import StandardScaler\n",
        "scaler = StandardScaler()\n",
        "X_train = scaler.fit_transform(X_train)\n",
        "X_test = scaler.transform(X_test)"
      ],
      "metadata": {
        "id": "LYu_xr42o9aq"
      },
      "execution_count": 6,
      "outputs": []
    },
    {
      "cell_type": "markdown",
      "source": [
        "fit_transform: calcula a média e o desvio padrão, depois transforma os dados\n",
        "\n",
        "transform: com os parâmetros calculados, só transforma os dados"
      ],
      "metadata": {
        "id": "0TCqnqpdtY8O"
      }
    },
    {
      "cell_type": "code",
      "source": [
        "print(X_train[0][0],\n",
        "X_test[0][0])"
      ],
      "metadata": {
        "colab": {
          "base_uri": "https://localhost:8080/"
        },
        "id": "qd3pYIVBsZ-6",
        "outputId": "b5227c37-e1f3-43df-8df3-4490a2f40265"
      },
      "execution_count": 7,
      "outputs": [
        {
          "output_type": "stream",
          "name": "stdout",
          "text": [
            "2.023993950075966 1.5778420713521517\n"
          ]
        }
      ]
    },
    {
      "cell_type": "markdown",
      "source": [
        "Criação do modelo"
      ],
      "metadata": {
        "id": "hUgeKLQEtdOz"
      }
    },
    {
      "cell_type": "code",
      "source": [
        "import tensorflow as tf\n",
        "\n",
        "i = tf.keras.layers.Input(shape=(D,))\n",
        "x = tf.keras.layers.Dense(1, activation='sigmoid')(i)\n",
        "model = tf.keras.models.Model(i, x)"
      ],
      "metadata": {
        "id": "PDfOegnou0Q5"
      },
      "execution_count": 8,
      "outputs": []
    },
    {
      "cell_type": "markdown",
      "source": [
        "Compilação do modelo"
      ],
      "metadata": {
        "id": "t5BEAnU5vVw1"
      }
    },
    {
      "cell_type": "code",
      "source": [
        "model.compile(optimizer='adam',\n",
        "loss='binary_crossentropy',\n",
        "metrics=['accuracy'])"
      ],
      "metadata": {
        "id": "srsFc-u9vaKJ"
      },
      "execution_count": 9,
      "outputs": []
    },
    {
      "cell_type": "markdown",
      "source": [
        "Treinamento"
      ],
      "metadata": {
        "id": "A4GzjlETvkiY"
      }
    },
    {
      "cell_type": "code",
      "source": [
        "r = model.fit(X_train, Y_train, validation_data=(X_test, Y_test),epochs=100)"
      ],
      "metadata": {
        "colab": {
          "base_uri": "https://localhost:8080/"
        },
        "id": "oeRv9blivpkg",
        "outputId": "96e4e494-859e-4b99-a2dd-8fd700eaabe3"
      },
      "execution_count": 10,
      "outputs": [
        {
          "output_type": "stream",
          "name": "stdout",
          "text": [
            "Epoch 1/100\n",
            "12/12 [==============================] - 2s 45ms/step - loss: 1.2949 - accuracy: 0.1916 - val_loss: 1.3163 - val_accuracy: 0.1862\n",
            "Epoch 2/100\n",
            "12/12 [==============================] - 0s 9ms/step - loss: 1.1786 - accuracy: 0.2336 - val_loss: 1.1842 - val_accuracy: 0.2287\n",
            "Epoch 3/100\n",
            "12/12 [==============================] - 0s 9ms/step - loss: 1.0674 - accuracy: 0.2782 - val_loss: 1.0646 - val_accuracy: 0.2553\n",
            "Epoch 4/100\n",
            "12/12 [==============================] - 0s 12ms/step - loss: 0.9696 - accuracy: 0.3202 - val_loss: 0.9559 - val_accuracy: 0.3032\n",
            "Epoch 5/100\n",
            "12/12 [==============================] - 0s 12ms/step - loss: 0.8821 - accuracy: 0.3753 - val_loss: 0.8599 - val_accuracy: 0.3830\n",
            "Epoch 6/100\n",
            "12/12 [==============================] - 0s 13ms/step - loss: 0.8043 - accuracy: 0.4514 - val_loss: 0.7779 - val_accuracy: 0.4681\n",
            "Epoch 7/100\n",
            "12/12 [==============================] - 0s 14ms/step - loss: 0.7393 - accuracy: 0.5354 - val_loss: 0.7063 - val_accuracy: 0.5266\n",
            "Epoch 8/100\n",
            "12/12 [==============================] - 0s 10ms/step - loss: 0.6814 - accuracy: 0.5932 - val_loss: 0.6465 - val_accuracy: 0.6117\n",
            "Epoch 9/100\n",
            "12/12 [==============================] - 0s 10ms/step - loss: 0.6315 - accuracy: 0.6509 - val_loss: 0.5968 - val_accuracy: 0.6862\n",
            "Epoch 10/100\n",
            "12/12 [==============================] - 0s 13ms/step - loss: 0.5908 - accuracy: 0.6982 - val_loss: 0.5524 - val_accuracy: 0.7553\n",
            "Epoch 11/100\n",
            "12/12 [==============================] - 0s 11ms/step - loss: 0.5533 - accuracy: 0.7375 - val_loss: 0.5150 - val_accuracy: 0.7926\n",
            "Epoch 12/100\n",
            "12/12 [==============================] - 0s 8ms/step - loss: 0.5209 - accuracy: 0.7795 - val_loss: 0.4833 - val_accuracy: 0.8085\n",
            "Epoch 13/100\n",
            "12/12 [==============================] - 0s 12ms/step - loss: 0.4934 - accuracy: 0.7900 - val_loss: 0.4550 - val_accuracy: 0.8511\n",
            "Epoch 14/100\n",
            "12/12 [==============================] - 0s 15ms/step - loss: 0.4684 - accuracy: 0.8084 - val_loss: 0.4303 - val_accuracy: 0.8564\n",
            "Epoch 15/100\n",
            "12/12 [==============================] - 0s 13ms/step - loss: 0.4468 - accuracy: 0.8163 - val_loss: 0.4081 - val_accuracy: 0.8777\n",
            "Epoch 16/100\n",
            "12/12 [==============================] - 0s 9ms/step - loss: 0.4271 - accuracy: 0.8268 - val_loss: 0.3883 - val_accuracy: 0.8936\n",
            "Epoch 17/100\n",
            "12/12 [==============================] - 0s 14ms/step - loss: 0.4093 - accuracy: 0.8399 - val_loss: 0.3707 - val_accuracy: 0.8989\n",
            "Epoch 18/100\n",
            "12/12 [==============================] - 0s 7ms/step - loss: 0.3936 - accuracy: 0.8504 - val_loss: 0.3546 - val_accuracy: 0.8989\n",
            "Epoch 19/100\n",
            "12/12 [==============================] - 0s 10ms/step - loss: 0.3789 - accuracy: 0.8556 - val_loss: 0.3400 - val_accuracy: 0.9043\n",
            "Epoch 20/100\n",
            "12/12 [==============================] - 0s 15ms/step - loss: 0.3658 - accuracy: 0.8583 - val_loss: 0.3266 - val_accuracy: 0.9149\n",
            "Epoch 21/100\n",
            "12/12 [==============================] - 0s 12ms/step - loss: 0.3537 - accuracy: 0.8688 - val_loss: 0.3143 - val_accuracy: 0.9149\n",
            "Epoch 22/100\n",
            "12/12 [==============================] - 0s 8ms/step - loss: 0.3426 - accuracy: 0.8740 - val_loss: 0.3032 - val_accuracy: 0.9362\n",
            "Epoch 23/100\n",
            "12/12 [==============================] - 0s 14ms/step - loss: 0.3322 - accuracy: 0.8740 - val_loss: 0.2927 - val_accuracy: 0.9415\n",
            "Epoch 24/100\n",
            "12/12 [==============================] - 0s 17ms/step - loss: 0.3225 - accuracy: 0.8793 - val_loss: 0.2830 - val_accuracy: 0.9415\n",
            "Epoch 25/100\n",
            "12/12 [==============================] - 0s 26ms/step - loss: 0.3137 - accuracy: 0.8845 - val_loss: 0.2739 - val_accuracy: 0.9415\n",
            "Epoch 26/100\n",
            "12/12 [==============================] - 0s 19ms/step - loss: 0.3053 - accuracy: 0.8924 - val_loss: 0.2656 - val_accuracy: 0.9415\n",
            "Epoch 27/100\n",
            "12/12 [==============================] - 0s 10ms/step - loss: 0.2977 - accuracy: 0.8950 - val_loss: 0.2577 - val_accuracy: 0.9468\n",
            "Epoch 28/100\n",
            "12/12 [==============================] - 0s 12ms/step - loss: 0.2904 - accuracy: 0.8976 - val_loss: 0.2503 - val_accuracy: 0.9521\n",
            "Epoch 29/100\n",
            "12/12 [==============================] - 0s 11ms/step - loss: 0.2834 - accuracy: 0.9003 - val_loss: 0.2435 - val_accuracy: 0.9521\n",
            "Epoch 30/100\n",
            "12/12 [==============================] - 0s 9ms/step - loss: 0.2770 - accuracy: 0.9003 - val_loss: 0.2369 - val_accuracy: 0.9628\n",
            "Epoch 31/100\n",
            "12/12 [==============================] - 0s 9ms/step - loss: 0.2709 - accuracy: 0.8976 - val_loss: 0.2309 - val_accuracy: 0.9628\n",
            "Epoch 32/100\n",
            "12/12 [==============================] - 0s 10ms/step - loss: 0.2650 - accuracy: 0.9003 - val_loss: 0.2251 - val_accuracy: 0.9628\n",
            "Epoch 33/100\n",
            "12/12 [==============================] - 0s 10ms/step - loss: 0.2595 - accuracy: 0.9029 - val_loss: 0.2197 - val_accuracy: 0.9628\n",
            "Epoch 34/100\n",
            "12/12 [==============================] - 0s 8ms/step - loss: 0.2544 - accuracy: 0.9029 - val_loss: 0.2146 - val_accuracy: 0.9628\n",
            "Epoch 35/100\n",
            "12/12 [==============================] - 0s 8ms/step - loss: 0.2494 - accuracy: 0.9029 - val_loss: 0.2097 - val_accuracy: 0.9681\n",
            "Epoch 36/100\n",
            "12/12 [==============================] - 0s 14ms/step - loss: 0.2447 - accuracy: 0.9029 - val_loss: 0.2051 - val_accuracy: 0.9681\n",
            "Epoch 37/100\n",
            "12/12 [==============================] - 0s 9ms/step - loss: 0.2402 - accuracy: 0.9081 - val_loss: 0.2008 - val_accuracy: 0.9681\n",
            "Epoch 38/100\n",
            "12/12 [==============================] - 0s 18ms/step - loss: 0.2358 - accuracy: 0.9081 - val_loss: 0.1966 - val_accuracy: 0.9681\n",
            "Epoch 39/100\n",
            "12/12 [==============================] - 0s 12ms/step - loss: 0.2317 - accuracy: 0.9108 - val_loss: 0.1926 - val_accuracy: 0.9681\n",
            "Epoch 40/100\n",
            "12/12 [==============================] - 0s 10ms/step - loss: 0.2279 - accuracy: 0.9108 - val_loss: 0.1887 - val_accuracy: 0.9681\n",
            "Epoch 41/100\n",
            "12/12 [==============================] - 0s 13ms/step - loss: 0.2239 - accuracy: 0.9108 - val_loss: 0.1852 - val_accuracy: 0.9734\n",
            "Epoch 42/100\n",
            "12/12 [==============================] - 0s 8ms/step - loss: 0.2205 - accuracy: 0.9134 - val_loss: 0.1817 - val_accuracy: 0.9734\n",
            "Epoch 43/100\n",
            "12/12 [==============================] - 0s 17ms/step - loss: 0.2170 - accuracy: 0.9160 - val_loss: 0.1785 - val_accuracy: 0.9734\n",
            "Epoch 44/100\n",
            "12/12 [==============================] - 0s 12ms/step - loss: 0.2136 - accuracy: 0.9213 - val_loss: 0.1754 - val_accuracy: 0.9734\n",
            "Epoch 45/100\n",
            "12/12 [==============================] - 0s 13ms/step - loss: 0.2106 - accuracy: 0.9265 - val_loss: 0.1723 - val_accuracy: 0.9734\n",
            "Epoch 46/100\n",
            "12/12 [==============================] - 0s 24ms/step - loss: 0.2074 - accuracy: 0.9265 - val_loss: 0.1694 - val_accuracy: 0.9734\n",
            "Epoch 47/100\n",
            "12/12 [==============================] - 0s 12ms/step - loss: 0.2045 - accuracy: 0.9265 - val_loss: 0.1665 - val_accuracy: 0.9787\n",
            "Epoch 48/100\n",
            "12/12 [==============================] - 0s 8ms/step - loss: 0.2016 - accuracy: 0.9291 - val_loss: 0.1639 - val_accuracy: 0.9787\n",
            "Epoch 49/100\n",
            "12/12 [==============================] - 0s 6ms/step - loss: 0.1989 - accuracy: 0.9291 - val_loss: 0.1612 - val_accuracy: 0.9787\n",
            "Epoch 50/100\n",
            "12/12 [==============================] - 0s 5ms/step - loss: 0.1963 - accuracy: 0.9318 - val_loss: 0.1587 - val_accuracy: 0.9787\n",
            "Epoch 51/100\n",
            "12/12 [==============================] - 0s 6ms/step - loss: 0.1937 - accuracy: 0.9318 - val_loss: 0.1564 - val_accuracy: 0.9787\n",
            "Epoch 52/100\n",
            "12/12 [==============================] - 0s 5ms/step - loss: 0.1913 - accuracy: 0.9318 - val_loss: 0.1540 - val_accuracy: 0.9787\n",
            "Epoch 53/100\n",
            "12/12 [==============================] - 0s 6ms/step - loss: 0.1890 - accuracy: 0.9344 - val_loss: 0.1520 - val_accuracy: 0.9787\n",
            "Epoch 54/100\n",
            "12/12 [==============================] - 0s 6ms/step - loss: 0.1866 - accuracy: 0.9370 - val_loss: 0.1498 - val_accuracy: 0.9787\n",
            "Epoch 55/100\n",
            "12/12 [==============================] - 0s 6ms/step - loss: 0.1843 - accuracy: 0.9370 - val_loss: 0.1477 - val_accuracy: 0.9787\n",
            "Epoch 56/100\n",
            "12/12 [==============================] - 0s 6ms/step - loss: 0.1823 - accuracy: 0.9370 - val_loss: 0.1457 - val_accuracy: 0.9787\n",
            "Epoch 57/100\n",
            "12/12 [==============================] - 0s 5ms/step - loss: 0.1802 - accuracy: 0.9370 - val_loss: 0.1437 - val_accuracy: 0.9787\n",
            "Epoch 58/100\n",
            "12/12 [==============================] - 0s 6ms/step - loss: 0.1782 - accuracy: 0.9370 - val_loss: 0.1419 - val_accuracy: 0.9787\n",
            "Epoch 59/100\n",
            "12/12 [==============================] - 0s 6ms/step - loss: 0.1762 - accuracy: 0.9370 - val_loss: 0.1401 - val_accuracy: 0.9787\n",
            "Epoch 60/100\n",
            "12/12 [==============================] - 0s 6ms/step - loss: 0.1744 - accuracy: 0.9370 - val_loss: 0.1384 - val_accuracy: 0.9787\n",
            "Epoch 61/100\n",
            "12/12 [==============================] - 0s 5ms/step - loss: 0.1726 - accuracy: 0.9370 - val_loss: 0.1367 - val_accuracy: 0.9787\n",
            "Epoch 62/100\n",
            "12/12 [==============================] - 0s 7ms/step - loss: 0.1707 - accuracy: 0.9370 - val_loss: 0.1350 - val_accuracy: 0.9787\n",
            "Epoch 63/100\n",
            "12/12 [==============================] - 0s 6ms/step - loss: 0.1691 - accuracy: 0.9370 - val_loss: 0.1334 - val_accuracy: 0.9787\n",
            "Epoch 64/100\n",
            "12/12 [==============================] - 0s 5ms/step - loss: 0.1673 - accuracy: 0.9370 - val_loss: 0.1319 - val_accuracy: 0.9787\n",
            "Epoch 65/100\n",
            "12/12 [==============================] - 0s 6ms/step - loss: 0.1657 - accuracy: 0.9423 - val_loss: 0.1304 - val_accuracy: 0.9787\n",
            "Epoch 66/100\n",
            "12/12 [==============================] - 0s 6ms/step - loss: 0.1641 - accuracy: 0.9449 - val_loss: 0.1289 - val_accuracy: 0.9787\n",
            "Epoch 67/100\n",
            "12/12 [==============================] - 0s 6ms/step - loss: 0.1626 - accuracy: 0.9449 - val_loss: 0.1275 - val_accuracy: 0.9787\n",
            "Epoch 68/100\n",
            "12/12 [==============================] - 0s 5ms/step - loss: 0.1612 - accuracy: 0.9449 - val_loss: 0.1261 - val_accuracy: 0.9787\n",
            "Epoch 69/100\n",
            "12/12 [==============================] - 0s 5ms/step - loss: 0.1597 - accuracy: 0.9449 - val_loss: 0.1248 - val_accuracy: 0.9787\n",
            "Epoch 70/100\n",
            "12/12 [==============================] - 0s 5ms/step - loss: 0.1582 - accuracy: 0.9475 - val_loss: 0.1235 - val_accuracy: 0.9787\n",
            "Epoch 71/100\n",
            "12/12 [==============================] - 0s 5ms/step - loss: 0.1569 - accuracy: 0.9475 - val_loss: 0.1223 - val_accuracy: 0.9787\n",
            "Epoch 72/100\n",
            "12/12 [==============================] - 0s 4ms/step - loss: 0.1555 - accuracy: 0.9475 - val_loss: 0.1210 - val_accuracy: 0.9787\n",
            "Epoch 73/100\n",
            "12/12 [==============================] - 0s 4ms/step - loss: 0.1542 - accuracy: 0.9475 - val_loss: 0.1198 - val_accuracy: 0.9787\n",
            "Epoch 74/100\n",
            "12/12 [==============================] - 0s 6ms/step - loss: 0.1530 - accuracy: 0.9475 - val_loss: 0.1186 - val_accuracy: 0.9734\n",
            "Epoch 75/100\n",
            "12/12 [==============================] - 0s 6ms/step - loss: 0.1517 - accuracy: 0.9501 - val_loss: 0.1174 - val_accuracy: 0.9734\n",
            "Epoch 76/100\n",
            "12/12 [==============================] - 0s 6ms/step - loss: 0.1505 - accuracy: 0.9501 - val_loss: 0.1164 - val_accuracy: 0.9734\n",
            "Epoch 77/100\n",
            "12/12 [==============================] - 0s 7ms/step - loss: 0.1493 - accuracy: 0.9501 - val_loss: 0.1153 - val_accuracy: 0.9734\n",
            "Epoch 78/100\n",
            "12/12 [==============================] - 0s 7ms/step - loss: 0.1481 - accuracy: 0.9501 - val_loss: 0.1142 - val_accuracy: 0.9734\n",
            "Epoch 79/100\n",
            "12/12 [==============================] - 0s 5ms/step - loss: 0.1470 - accuracy: 0.9501 - val_loss: 0.1132 - val_accuracy: 0.9734\n",
            "Epoch 80/100\n",
            "12/12 [==============================] - 0s 6ms/step - loss: 0.1459 - accuracy: 0.9501 - val_loss: 0.1122 - val_accuracy: 0.9734\n",
            "Epoch 81/100\n",
            "12/12 [==============================] - 0s 6ms/step - loss: 0.1448 - accuracy: 0.9501 - val_loss: 0.1112 - val_accuracy: 0.9734\n",
            "Epoch 82/100\n",
            "12/12 [==============================] - 0s 7ms/step - loss: 0.1438 - accuracy: 0.9501 - val_loss: 0.1103 - val_accuracy: 0.9734\n",
            "Epoch 83/100\n",
            "12/12 [==============================] - 0s 5ms/step - loss: 0.1427 - accuracy: 0.9501 - val_loss: 0.1093 - val_accuracy: 0.9734\n",
            "Epoch 84/100\n",
            "12/12 [==============================] - 0s 6ms/step - loss: 0.1417 - accuracy: 0.9501 - val_loss: 0.1084 - val_accuracy: 0.9734\n",
            "Epoch 85/100\n",
            "12/12 [==============================] - 0s 5ms/step - loss: 0.1407 - accuracy: 0.9501 - val_loss: 0.1074 - val_accuracy: 0.9734\n",
            "Epoch 86/100\n",
            "12/12 [==============================] - 0s 6ms/step - loss: 0.1398 - accuracy: 0.9501 - val_loss: 0.1066 - val_accuracy: 0.9734\n",
            "Epoch 87/100\n",
            "12/12 [==============================] - 0s 5ms/step - loss: 0.1388 - accuracy: 0.9501 - val_loss: 0.1057 - val_accuracy: 0.9734\n",
            "Epoch 88/100\n",
            "12/12 [==============================] - 0s 7ms/step - loss: 0.1379 - accuracy: 0.9554 - val_loss: 0.1048 - val_accuracy: 0.9734\n",
            "Epoch 89/100\n",
            "12/12 [==============================] - 0s 6ms/step - loss: 0.1370 - accuracy: 0.9554 - val_loss: 0.1041 - val_accuracy: 0.9734\n",
            "Epoch 90/100\n",
            "12/12 [==============================] - 0s 6ms/step - loss: 0.1361 - accuracy: 0.9554 - val_loss: 0.1032 - val_accuracy: 0.9734\n",
            "Epoch 91/100\n",
            "12/12 [==============================] - 0s 6ms/step - loss: 0.1352 - accuracy: 0.9554 - val_loss: 0.1025 - val_accuracy: 0.9734\n",
            "Epoch 92/100\n",
            "12/12 [==============================] - 0s 5ms/step - loss: 0.1344 - accuracy: 0.9554 - val_loss: 0.1017 - val_accuracy: 0.9734\n",
            "Epoch 93/100\n",
            "12/12 [==============================] - 0s 6ms/step - loss: 0.1335 - accuracy: 0.9554 - val_loss: 0.1009 - val_accuracy: 0.9734\n",
            "Epoch 94/100\n",
            "12/12 [==============================] - 0s 6ms/step - loss: 0.1327 - accuracy: 0.9554 - val_loss: 0.1002 - val_accuracy: 0.9734\n",
            "Epoch 95/100\n",
            "12/12 [==============================] - 0s 6ms/step - loss: 0.1319 - accuracy: 0.9554 - val_loss: 0.0995 - val_accuracy: 0.9734\n",
            "Epoch 96/100\n",
            "12/12 [==============================] - 0s 7ms/step - loss: 0.1311 - accuracy: 0.9554 - val_loss: 0.0987 - val_accuracy: 0.9734\n",
            "Epoch 97/100\n",
            "12/12 [==============================] - 0s 5ms/step - loss: 0.1304 - accuracy: 0.9554 - val_loss: 0.0980 - val_accuracy: 0.9734\n",
            "Epoch 98/100\n",
            "12/12 [==============================] - 0s 6ms/step - loss: 0.1296 - accuracy: 0.9580 - val_loss: 0.0974 - val_accuracy: 0.9734\n",
            "Epoch 99/100\n",
            "12/12 [==============================] - 0s 6ms/step - loss: 0.1288 - accuracy: 0.9580 - val_loss: 0.0967 - val_accuracy: 0.9734\n",
            "Epoch 100/100\n",
            "12/12 [==============================] - 0s 5ms/step - loss: 0.1281 - accuracy: 0.9580 - val_loss: 0.0961 - val_accuracy: 0.9734\n"
          ]
        }
      ]
    },
    {
      "cell_type": "markdown",
      "source": [
        "Resultados"
      ],
      "metadata": {
        "id": "ENyEI1mJvsRx"
      }
    },
    {
      "cell_type": "code",
      "source": [
        "print(\"Train score: \", model.evaluate(X_train, Y_train))\n",
        "print(\"Test score: \", model.evaluate(X_test, Y_test))"
      ],
      "metadata": {
        "colab": {
          "base_uri": "https://localhost:8080/"
        },
        "id": "DAl2m81tvxYp",
        "outputId": "09da968a-a4f3-4e90-fc1e-895030e687ff"
      },
      "execution_count": 14,
      "outputs": [
        {
          "output_type": "stream",
          "name": "stdout",
          "text": [
            "12/12 [==============================] - 0s 2ms/step - loss: 0.1277 - accuracy: 0.9580\n",
            "Train score:  [0.1276690810918808, 0.9580052495002747]\n",
            "6/6 [==============================] - 0s 3ms/step - loss: 0.0961 - accuracy: 0.9734\n",
            "Test score:  [0.09611115604639053, 0.9734042286872864]\n"
          ]
        }
      ]
    },
    {
      "cell_type": "markdown",
      "source": [
        "Gráficos da Descida do Gradiente"
      ],
      "metadata": {
        "id": "cQdTeBGNv38e"
      }
    },
    {
      "cell_type": "code",
      "source": [
        "import matplotlib.pyplot as plt\n",
        "\n",
        "plt.plot(r.history['loss'], label='loss')\n",
        "plt.plot(r.history['val_loss'], label='val_loss')\n",
        "plt.legend()"
      ],
      "metadata": {
        "colab": {
          "base_uri": "https://localhost:8080/",
          "height": 282
        },
        "id": "iyOYawoZv4q_",
        "outputId": "1dfff6c3-9c94-4780-b1ab-d8e0691160cd"
      },
      "execution_count": 19,
      "outputs": [
        {
          "output_type": "execute_result",
          "data": {
            "text/plain": [
              "<matplotlib.legend.Legend at 0x7f9c52352090>"
            ]
          },
          "metadata": {},
          "execution_count": 19
        },
        {
          "output_type": "display_data",
          "data": {
            "text/plain": [
              "<Figure size 432x288 with 1 Axes>"
            ],
            "image/png": "[encoded data removed]"
          },
          "metadata": {
            "needs_background": "light"
          }
        }
      ]
    },
    {
      "cell_type": "markdown",
      "source": [
        "Gráficos da Acurácia"
      ],
      "metadata": {
        "id": "4ZG5ZLEAv7MR"
      }
    },
    {
      "cell_type": "code",
      "source": [
        "plt.plot(r.history['accuracy'], label=\"acc\")\n",
        "plt.plot(r.history['val_accuracy'], label='val_acc')\n",
        "plt.legend()"
      ],
      "metadata": {
        "colab": {
          "base_uri": "https://localhost:8080/",
          "height": 282
        },
        "id": "DdooJ__av9R3",
        "outputId": "3e5e1d8e-654c-4aee-951d-50345bac2ae6"
      },
      "execution_count": 20,
      "outputs": [
        {
          "output_type": "execute_result",
          "data": {
            "text/plain": [
              "<matplotlib.legend.Legend at 0x7f9c51e3ccd0>"
            ]
          },
          "metadata": {},
          "execution_count": 20
        },
        {
          "output_type": "display_data",
          "data": {
            "text/plain": [
              "<Figure size 432x288 with 1 Axes>"
            ],
            "image/png": "[encoded data removed]"
          },
          "metadata": {
            "needs_background": "light"
          }
        }
      ]
    },
    {
      "cell_type": "markdown",
      "source": [
        "Efetuando Predições"
      ],
      "metadata": {
        "id": "UQtKZGcBv_6V"
      }
    },
    {
      "cell_type": "code",
      "source": [
        "pred = model.predict(X_test)\n",
        "print(pred)"
      ],
      "metadata": {
        "colab": {
          "base_uri": "https://localhost:8080/"
        },
        "id": "qK_z196ZwGkQ",
        "outputId": "ac30d49b-df98-49b6-a0d9-fec36adde75e"
      },
      "execution_count": 22,
      "outputs": [
        {
          "output_type": "stream",
          "name": "stdout",
          "text": [
            "[[1.7478526e-02]\n",
            " [1.8426776e-03]\n",
            " [9.9899292e-01]\n",
            " [9.9301207e-01]\n",
            " [9.5588791e-01]\n",
            " [2.1150982e-01]\n",
            " [1.8089095e-01]\n",
            " [8.6905825e-01]\n",
            " [5.7652360e-01]\n",
            " [9.6414500e-01]\n",
            " [1.0387373e-01]\n",
            " [9.9380791e-01]\n",
            " [1.7446432e-01]\n",
            " [9.9452043e-01]\n",
            " [9.7811997e-01]\n",
            " [9.5918143e-01]\n",
            " [2.9830813e-02]\n",
            " [9.7296196e-01]\n",
            " [9.8305082e-01]\n",
            " [9.9800259e-01]\n",
            " [5.4787844e-05]\n",
            " [9.6879357e-01]\n",
            " [1.1077136e-02]\n",
            " [9.9831212e-01]\n",
            " [4.1968226e-03]\n",
            " [9.9641073e-01]\n",
            " [9.8721677e-01]\n",
            " [9.8018897e-01]\n",
            " [9.8440242e-01]\n",
            " [9.6955335e-01]\n",
            " [8.7700456e-01]\n",
            " [9.7880006e-01]\n",
            " [5.1022673e-01]\n",
            " [7.9200220e-01]\n",
            " [4.8818082e-02]\n",
            " [9.9126947e-01]\n",
            " [6.4835614e-01]\n",
            " [2.0507872e-03]\n",
            " [9.5073485e-01]\n",
            " [9.7546351e-01]\n",
            " [3.0155361e-02]\n",
            " [8.7529147e-01]\n",
            " [9.1446042e-03]\n",
            " [9.9137348e-01]\n",
            " [8.8400638e-01]\n",
            " [7.0278472e-01]\n",
            " [9.9486434e-01]\n",
            " [9.9689460e-01]\n",
            " [7.3611527e-06]\n",
            " [9.9510670e-01]\n",
            " [7.7551126e-01]\n",
            " [1.1181116e-02]\n",
            " [4.0941823e-01]\n",
            " [1.4929515e-01]\n",
            " [9.9811101e-01]\n",
            " [5.7717997e-01]\n",
            " [9.9883604e-01]\n",
            " [9.9759346e-01]\n",
            " [3.7790239e-01]\n",
            " [2.3482233e-02]\n",
            " [3.9787396e-06]\n",
            " [9.9059474e-01]\n",
            " [9.7717106e-01]\n",
            " [9.0139461e-01]\n",
            " [9.8256338e-01]\n",
            " [9.7638392e-01]\n",
            " [6.7280769e-01]\n",
            " [5.9893519e-02]\n",
            " [2.6299655e-03]\n",
            " [9.8709869e-01]\n",
            " [1.5588453e-01]\n",
            " [1.9985437e-04]\n",
            " [8.8049936e-01]\n",
            " [2.4064022e-01]\n",
            " [1.4821291e-02]\n",
            " [3.1256676e-04]\n",
            " [9.6889448e-01]\n",
            " [5.7468683e-02]\n",
            " [9.8115247e-01]\n",
            " [3.7626147e-02]\n",
            " [1.4401633e-01]\n",
            " [1.2907386e-04]\n",
            " [4.7532365e-07]\n",
            " [9.5228499e-01]\n",
            " [9.2529899e-01]\n",
            " [9.9307752e-01]\n",
            " [2.8683329e-01]\n",
            " [9.7164273e-01]\n",
            " [9.3164694e-01]\n",
            " [7.4819970e-01]\n",
            " [9.8611927e-01]\n",
            " [9.6267712e-01]\n",
            " [9.2150706e-01]\n",
            " [9.9561501e-01]\n",
            " [7.1691185e-01]\n",
            " [1.4074740e-01]\n",
            " [9.9843049e-01]\n",
            " [9.3988299e-01]\n",
            " [2.0594126e-01]\n",
            " [9.7982842e-01]\n",
            " [1.9936860e-03]\n",
            " [8.1689799e-01]\n",
            " [3.9323854e-01]\n",
            " [9.8157799e-01]\n",
            " [9.9617004e-01]\n",
            " [9.1253662e-01]\n",
            " [1.4259550e-01]\n",
            " [9.9017119e-01]\n",
            " [1.2076795e-03]\n",
            " [3.3403968e-10]\n",
            " [9.7248411e-01]\n",
            " [8.5767448e-01]\n",
            " [9.8377866e-01]\n",
            " [9.8827052e-01]\n",
            " [9.0423459e-01]\n",
            " [9.5184386e-01]\n",
            " [8.3031583e-01]\n",
            " [9.9636030e-01]\n",
            " [9.7941726e-01]\n",
            " [4.4508826e-05]\n",
            " [5.4334152e-01]\n",
            " [9.5526326e-01]\n",
            " [8.0573559e-04]\n",
            " [9.8640984e-01]\n",
            " [9.7690940e-01]\n",
            " [9.9754816e-01]\n",
            " [1.6618973e-01]\n",
            " [9.6386862e-01]\n",
            " [9.3830943e-02]\n",
            " [6.7270815e-02]\n",
            " [5.6872487e-02]\n",
            " [8.8581419e-01]\n",
            " [6.6746968e-01]\n",
            " [9.0804017e-01]\n",
            " [8.7857842e-01]\n",
            " [9.7740102e-01]\n",
            " [3.6765039e-03]\n",
            " [5.1724672e-02]\n",
            " [7.5920701e-01]\n",
            " [3.5531819e-03]\n",
            " [3.0709922e-02]\n",
            " [9.8909724e-01]\n",
            " [4.5526624e-02]\n",
            " [1.6577864e-01]\n",
            " [1.0312915e-02]\n",
            " [9.1211569e-01]\n",
            " [4.6700060e-02]\n",
            " [8.3416235e-01]\n",
            " [9.9851358e-01]\n",
            " [9.9708652e-01]\n",
            " [9.8470986e-01]\n",
            " [4.7483116e-02]\n",
            " [9.5168138e-01]\n",
            " [9.2215407e-01]\n",
            " [1.0609636e-01]\n",
            " [8.4862286e-08]\n",
            " [2.7641720e-01]\n",
            " [8.4928942e-01]\n",
            " [6.0929358e-03]\n",
            " [4.5700144e-05]\n",
            " [8.9480591e-01]\n",
            " [4.7029702e-05]\n",
            " [9.4850206e-01]\n",
            " [9.6663320e-01]\n",
            " [9.7860384e-01]\n",
            " [9.2743170e-01]\n",
            " [8.8423419e-01]\n",
            " [8.6815250e-01]\n",
            " [8.9174509e-04]\n",
            " [8.4378082e-01]\n",
            " [9.3498725e-01]\n",
            " [9.9422002e-01]\n",
            " [9.5455194e-01]\n",
            " [2.1279752e-03]\n",
            " [8.6221349e-01]\n",
            " [2.2482872e-04]\n",
            " [9.7215414e-01]\n",
            " [1.8906608e-01]\n",
            " [9.9833804e-01]\n",
            " [8.5665476e-01]\n",
            " [2.4853051e-03]\n",
            " [6.6742897e-03]\n",
            " [9.7740793e-01]\n",
            " [1.1427104e-03]\n",
            " [6.0626578e-01]\n",
            " [8.4988672e-01]\n",
            " [9.7496951e-01]\n",
            " [9.9596167e-01]]\n"
          ]
        }
      ]
    },
    {
      "cell_type": "markdown",
      "source": [
        "Arredonda e achata o resultado\n",
        "\n",
        "A camada de saída é sigmóide : 0 - 1"
      ],
      "metadata": {
        "id": "WvZGDvaIwJg_"
      }
    },
    {
      "cell_type": "code",
      "source": [
        "import numpy as np\n",
        "# flatten: transformar em vetor, pois está em matriz (N,1)\n",
        "pred = np.round(pred).flatten()\n",
        "print(pred)"
      ],
      "metadata": {
        "colab": {
          "base_uri": "https://localhost:8080/"
        },
        "id": "XN15CeirwfSI",
        "outputId": "8eada5a2-92d2-4d72-8dbd-03b462a2b052"
      },
      "execution_count": 23,
      "outputs": [
        {
          "output_type": "stream",
          "name": "stdout",
          "text": [
            "[0. 0. 1. 1. 1. 0. 0. 1. 1. 1. 0. 1. 0. 1. 1. 1. 0. 1. 1. 1. 0. 1. 0. 1.\n",
            " 0. 1. 1. 1. 1. 1. 1. 1. 1. 1. 0. 1. 1. 0. 1. 1. 0. 1. 0. 1. 1. 1. 1. 1.\n",
            " 0. 1. 1. 0. 0. 0. 1. 1. 1. 1. 0. 0. 0. 1. 1. 1. 1. 1. 1. 0. 0. 1. 0. 0.\n",
            " 1. 0. 0. 0. 1. 0. 1. 0. 0. 0. 0. 1. 1. 1. 0. 1. 1. 1. 1. 1. 1. 1. 1. 0.\n",
            " 1. 1. 0. 1. 0. 1. 0. 1. 1. 1. 0. 1. 0. 0. 1. 1. 1. 1. 1. 1. 1. 1. 1. 0.\n",
            " 1. 1. 0. 1. 1. 1. 0. 1. 0. 0. 0. 1. 1. 1. 1. 1. 0. 0. 1. 0. 0. 1. 0. 0.\n",
            " 0. 1. 0. 1. 1. 1. 1. 0. 1. 1. 0. 0. 0. 1. 0. 0. 1. 0. 1. 1. 1. 1. 1. 1.\n",
            " 0. 1. 1. 1. 1. 0. 1. 0. 1. 0. 1. 1. 0. 0. 1. 0. 1. 1. 1. 1.]\n"
          ]
        }
      ]
    },
    {
      "cell_type": "markdown",
      "source": [
        "Cálculo da Acurácia"
      ],
      "metadata": {
        "id": "NY2m4WDtwlSb"
      }
    },
    {
      "cell_type": "code",
      "source": [
        "print(\"Acurácia na mão: \", np.mean(pred == Y_test))\n",
        "print(\"Evaluate: \", model.evaluate(X_test, Y_test))\n",
        "print(\"\")\n",
        "print(\"Acurácia: \", model.evaluate(X_test, Y_test)[1])"
      ],
      "metadata": {
        "colab": {
          "base_uri": "https://localhost:8080/"
        },
        "id": "1o4J-uWdwpOO",
        "outputId": "0677921a-39d7-49c2-be53-9c25ab015c38"
      },
      "execution_count": 24,
      "outputs": [
        {
          "output_type": "stream",
          "name": "stdout",
          "text": [
            "Acurácia na mão:  0.973404255319149\n",
            "6/6 [==============================] - 0s 4ms/step - loss: 0.0961 - accuracy: 0.9734\n",
            "Evaluate:  [0.09611115604639053, 0.9734042286872864]\n",
            "\n",
            "6/6 [==============================] - 0s 3ms/step - loss: 0.0961 - accuracy: 0.9734\n",
            "Acurácia:  0.9734042286872864\n"
          ]
        }
      ]
    }
  ]
}